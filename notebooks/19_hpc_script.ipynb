{
 "cells": [
  {
   "attachments": {},
   "cell_type": "markdown",
   "metadata": {},
   "source": [
    "1.  piisavalt andmeid et keskväärtuste viga jookseks 0.\n",
    "    - et keskv ennustus töötab\n",
    "2.  kas variacne sisukas. kas konst func. et keskv oleks lihtne. müra lineaarne.\n",
    "    et kas mudel saab pihta veale/mürale, paljude anmdetegea.\n",
    "    \\sihilikult hpiame fikseeritud arhitektuuri.\n",
    "    tulevikus tutleb võtta kui väikest katsetust sest arhitektuure peaks ka uurima\n",
    "\n",
    "    - et kas 2 koondub 1te.\n",
    "      eeldusel et andmed ülutihedalt\n",
    "\n",
    "3.  kui sama olukord aga vähem andmeid. ülesobitamise määra võrdlus kui hea 2 on. - **kui 1000-10 punkti, fookus 10-100 punkti juures** - ülespbitamist saab treening- vs testviga - testviga saab mõõta samadel X-del, sest müra on mingi valemiga paigas. Või lihtsalt ama jaotus. - Tuleks eksp mitu korda jooksutada. keskmistada. - tuleb väheste andmepunktidega X endid ka muuta asukohta veidi lisaks mürale. - vähem andmeid =? suurem ülesobitus (testviga>>treening). - ülesobitus sümptom 2: 2 hakkab väiksemaks kui 3. - kui palju 2<3 versus treening&test **MSE** erinevus. **uurimisküsimus** - kas 2miinus3 on seotud treening-test viga -> 3 ongi testviga ehk kas 2 on treeningviga.\n",
    "    **vahe muutumine andmete suurusega seoses. kuidas 2 on treeningveaga sõltuvuses. .võib ka vaadata 2-3 märki, kui on väikesem siis on liiga enesekindel & vice versa**\n",
    "    **vahet saaks vaadata eri kohtades. kõik eelnev nii globaalne kui ka lookaalne**\n",
    "    **kas serva efekt eksisteerib** - ei ole vaja ette geneda kõike\n",
    "\n",
    "               2 on treeningviga:\n",
    "                  -\n",
    "\n",
    "    ^ sealt valida mõned suurused välja 4) jaoks, tegelikult 1/5 jaoks . uuritav arv on /5, see on B, ja siis 1-5 valemitest leian A.\n",
    "\n",
    "4.  X telje genereerimine seada mitte ühtlaseks.\n",
    "    praegu saab globaalsest andmemahust seonduvad asjad. sest glob u= lok\n",
    "    kui teha eraldi siis enam ei ole sama\n",
    "    sujuv vs järsk tihedusemuut - kui järsk siis saab akna piiri uurida\n",
    "\n",
    "5 piirkonda. 4 piirkonda üks ja 1 on teine. -- saab vaadata milline faktor loeb rohkeim\n",
    "A = 1 tihedus,\n",
    "B = 4 ülejäänude tihedused\n",
    "\n",
    "Tsenaarium:\n",
    "\n",
    "1. A = 4\\*B\n",
    "2. A = 2\\*B (poole tihedam)\n",
    "3. A = 1\\*B (jooksutada vähem, ei ole vaja 5x)\n",
    "4. A = B/2\n",
    "5. A = B/4\n",
    "   ^ VÕTTA random.uniform() mitte linspace()\n",
    "   testandmed geneda linspace abil (need hpida konstantsena, eelgene jne)\n",
    "\n",
    "KAS SUURENDADA LOKAALSET ARVU VÕI GLOAALSET ARVU (20-20-20-20-20 -> 16-16-16-16-32 VÕI 20-20-20-20-40) (40 variant parem vb)\n",
    "** lokaalsete muutuste uurimiseks tasub muuta X_test asukohta võrreldes train**\n",
    "\n",
    "batch size olgu min(andmed/5, 16)\n",
    "esimene kahe aste mis ületab len(andmed)/5\n"
   ]
  },
  {
   "cell_type": "code",
   "execution_count": 1,
   "metadata": {},
   "outputs": [
    {
     "name": "stdout",
     "output_type": "stream",
     "text": [
      "c:\\Users\\troosma\\Documents\\Ylikool\\6. semester\\Bakatöö\\bakatoo\n"
     ]
    }
   ],
   "source": [
    "%matplotlib inline\n",
    "%load_ext autoreload\n",
    "%autoreload 2\n",
    "%cd ..\n"
   ]
  },
  {
   "cell_type": "code",
   "execution_count": 47,
   "metadata": {},
   "outputs": [],
   "source": [
    "import sys\n",
    "import os\n",
    "\n",
    "import numpy as np\n",
    "import random\n",
    "import tensorflow as tf\n",
    "\n",
    "from tensorflow import keras\n",
    "from keras import layers\n",
    "\n",
    "from matplotlib import pyplot as plt\n",
    "import seaborn as sns\n",
    "\n",
    "from scripts.CustomCallbacks import CustomLogger\n",
    "import scripts.utils as utils\n",
    "import scripts.Slopes as Slopes\n",
    "\n",
    "from tqdm import tqdm\n",
    "import json\n",
    "utils.reset_seeds(0)\n"
   ]
  },
  {
   "attachments": {},
   "cell_type": "markdown",
   "metadata": {},
   "source": [
    "## 20-20 relu, const func, noise = 0.3 + 0.3X\n"
   ]
  },
  {
   "cell_type": "code",
   "execution_count": 3,
   "metadata": {},
   "outputs": [],
   "source": [
    "def train_model(\n",
    "    trainX: np.ndarray,\n",
    "    nn_size: tuple[int, int] = (20, 20),\n",
    "    optimizer: keras.optimizers = keras.optimizers.Adam(\n",
    "        learning_rate=0.003, amsgrad=True, epsilon=1e-3),\n",
    "    epochs: int = 1000,\n",
    "    batch_size: int = None,\n",
    "    fn=lambda x: 0*x,\n",
    "    noise_fn=lambda x: 0.3 *\n",
    "        np.random.randn(len(x)) + 0.3 * x * np.random.randn(len(x)),\n",
    "    reverse_fn: bool = False,\n",
    "    reverse_noise: bool = False,\n",
    "    seed: int = None\n",
    ") -> tuple[keras.Model, keras.callbacks.History, tuple[np.ndarray, np.ndarray]]:\n",
    "    \"\"\"Mudeli treenimine, võib kasutada erinevaid funktsioone ja müra, tagastab mudeli, ajaloo ja treeningandmed\n",
    "\n",
    "    :param trainX: treeningX andmed\n",
    "    :param nn_size: võrgu kihtide suurused, hetkel ainult 2 kihti lubatud, defaults to (20, 20)\n",
    "    :param optimizer: optimiseerija, hetkel valitud hea väiksematele andmehulkadele, defaults to keras.optimizers.Adam( learning_rate=0.003, amsgrad=True, epsilon=1e-3)\n",
    "    :param epochs: epochide kogus, defaults to 1000\n",
    "    :param batch_size: batch size, kasutab valemit min(16, kahe aste mis > len(X)/5), defaults to 16\n",
    "    :param fn: funktsioon mida õppida, defaults to lambdax:0*x\n",
    "    :param noise_fn: mürafn, defaults to lambdax:0.3*np.random.randn(len(x))+0.3*x*np.random.randn(len(x))\n",
    "    :param reverse_fn: kas pöörata fn tagurpidi, defaults to False\n",
    "    :param reverse_noise: kas pöörata müra tagurpidi, defaults to False\n",
    "    :param seed: seed, defaults to 42\n",
    "    :return: treenitud mudel, ajalugu, treeningandmed\n",
    "    \"\"\"\n",
    "\n",
    "    utils.reset_seeds(seed)\n",
    "\n",
    "    model = keras.Sequential([\n",
    "        layers.Input(shape=(1,)),\n",
    "        layers.Dense(units=nn_size[0], activation='relu', name=\"layer_1\"),\n",
    "        layers.Dense(units=nn_size[1], activation='relu', name=\"layer_2\"),\n",
    "        layers.Dense(units=2, activation='linear', name=\"layer_3\")\n",
    "    ])\n",
    "\n",
    "    X = trainX\n",
    "\n",
    "    # kõik võimalikud kombod reverse_fn ja reverse_noise. Default on tavalist pidi\n",
    "    if reverse_fn and reverse_noise:\n",
    "        y = fn(X[::-1]) + noise_fn(X[::-1])\n",
    "    elif reverse_fn:\n",
    "        y = fn(X[::-1]) + noise_fn(X)\n",
    "    elif reverse_noise:\n",
    "        y = fn(X) + noise_fn(X[::-1])\n",
    "    else:\n",
    "        y = fn(X) + noise_fn(X)\n",
    "\n",
    "    X_train, y_train = X, y\n",
    "\n",
    "    model.compile(\n",
    "        optimizer=optimizer,\n",
    "        loss=utils.neg_log_likelihood,\n",
    "    )\n",
    "\n",
    "    if batch_size is None:\n",
    "        batch_size = min(16, max(2, 2**int(np.log2(len(trainX)/5+0.001)+1)))\n",
    "\n",
    "    # TODO: validation_batch_size ja validation_freq saab kasutada et vaadata kuidas viga treeningu jooksul muutub\n",
    "    h = model.fit(X_train, y_train, batch_size=batch_size, epochs=epochs, verbose=0,\n",
    "                  callbacks=[CustomLogger(100)], shuffle=True, )\n",
    "    return model, h, (X_train, y_train)\n",
    "\n",
    "\n",
    "def fn(X): return 0*X\n",
    "\n",
    "\n",
    "def noise_fn(X): return 0.3 * np.random.randn(len(X)) + \\\n",
    "    0.3 * X * np.random.randn(len(X))\n"
   ]
  },
  {
   "cell_type": "code",
   "execution_count": 37,
   "metadata": {},
   "outputs": [],
   "source": [
    "train_sizes = [10, 20, 30, 40, 50, 60, 70, 80, 90, 100, 110, 120, 130, 140, 150, 160, 170, 180,\n",
    "               190, 200, 250, 300, 350, 400, 450, 500, 600, 700, 800, 900, 1000, 2000, 5000, 10**4, 10**5, 10**6]\n",
    "X_grid_test = np.linspace(0, 10, 10**7)\n",
    "y_grid_test = fn(X_grid_test) + noise_fn(X_grid_test)\n",
    "test_goal = 10**7\n",
    "\n",
    "n_runs = 5\n",
    "seeds = np.arange(n_runs)\n",
    "epochs = 10"
   ]
  },
  {
   "cell_type": "code",
   "execution_count": 5,
   "metadata": {},
   "outputs": [
    {
     "data": {
      "text/plain": [
       "array([0, 0, 0, 1, 1, 1, 2, 2, 2])"
      ]
     },
     "execution_count": 5,
     "metadata": {},
     "output_type": "execute_result"
    }
   ],
   "source": [
    "goal = 10\n",
    "arr = np.arange(0, 3, 1)\n",
    "np.repeat(arr, goal/len(arr))"
   ]
  },
  {
   "cell_type": "code",
   "execution_count": 115,
   "metadata": {},
   "outputs": [],
   "source": [
    "def save_everything(directory, train_size, seed, y_pred, rmses, mses, bp):\n",
    "    np.save(f\"{directory}/dumps/{train_size}/{seed}/y_pred\", y_pred)\n",
    "    np.save(f\"{directory}/dumps/{train_size}/{seed}/rmses\", rmses)\n",
    "    np.save(f\"{directory}/dumps/{train_size}/{seed}/bpoints\", bp)\n",
    "    with open(f\"test2/19_hpc_script/dumps/{train_size}/{seed}/mses.json\", \"w+\") as f:\n",
    "        json.dump(\n",
    "        dict(zip([\"mse_treeningul\",\"mse_grid_testil\",\"mse_treening_andmete_teine_myra\"], map(lambda x: float(x.numpy()), mses))),\n",
    "        f)"
   ]
  },
  {
   "cell_type": "code",
   "execution_count": 39,
   "metadata": {},
   "outputs": [],
   "source": [
    "def samad_punktid_kui_treeningul_teine_myra(X_train, model, fn, noise_fn, test_goal):\n",
    "    X_test = np.repeat(X_train, test_goal/len(X_train))\n",
    "    y_test = fn(X_test) + noise_fn(X_test)\n",
    "    y_pred = model.predict(X_test, batch_size=65536)\n",
    "    return keras.losses.mean_squared_error(y_test, y_pred[:,0])"
   ]
  },
  {
   "cell_type": "code",
   "execution_count": 129,
   "metadata": {},
   "outputs": [
    {
     "name": "stdout",
     "output_type": "stream",
     "text": [
      "Epoch:   0 | Loss: 1.92664e+00\n",
      "153/153 [==============================] - 1s 8ms/step\n",
      "INFO:tensorflow:Assets written to: test2/19_hpc_script/models/10_0\\assets\n",
      "model contains 28 breaks\n",
      "1/1 [==============================] - 0s 22ms/step\n"
     ]
    },
    {
     "ename": "FileNotFoundError",
     "evalue": "[Errno 2] No such file or directory: 'test2/19_hpc_script/plots/variance/10_0.png'",
     "output_type": "error",
     "traceback": [
      "\u001b[1;31m---------------------------------------------------------------------------\u001b[0m",
      "\u001b[1;31mFileNotFoundError\u001b[0m                         Traceback (most recent call last)",
      "\u001b[1;32mc:\\Users\\troosma\\Documents\\Ylikool\\6. semester\\Bakatöö\\bakatoo\\notebooks\\19_hpc_script.ipynb Cell 10\u001b[0m in \u001b[0;36m2\n\u001b[0;32m     <a href='vscode-notebook-cell:/c%3A/Users/troosma/Documents/Ylikool/6.%20semester/Bakat%C3%B6%C3%B6/bakatoo/notebooks/19_hpc_script.ipynb#X10sZmlsZQ%3D%3D?line=17'>18</a>\u001b[0m \u001b[39m# m = tf.keras.models.load_model(\"test2/19_hpc_script/models/10_0\", custom_objects={'neg_log_likelihood': utils.neg_log_likelihood})\u001b[39;00m\n\u001b[0;32m     <a href='vscode-notebook-cell:/c%3A/Users/troosma/Documents/Ylikool/6.%20semester/Bakat%C3%B6%C3%B6/bakatoo/notebooks/19_hpc_script.ipynb#X10sZmlsZQ%3D%3D?line=20'>21</a>\u001b[0m variance_fig \u001b[39m=\u001b[39m utils\u001b[39m.\u001b[39mjoonista_variance(model, X_test\u001b[39m=\u001b[39mnp\u001b[39m.\u001b[39mlinspace(\u001b[39m-\u001b[39m\u001b[39m2\u001b[39m, \u001b[39m12\u001b[39m, \u001b[39m1000\u001b[39m), X_train\u001b[39m=\u001b[39mX_train, y_train\u001b[39m=\u001b[39my_train,\n\u001b[0;32m     <a href='vscode-notebook-cell:/c%3A/Users/troosma/Documents/Ylikool/6.%20semester/Bakat%C3%B6%C3%B6/bakatoo/notebooks/19_hpc_script.ipynb#X10sZmlsZQ%3D%3D?line=21'>22</a>\u001b[0m                 xlim\u001b[39m=\u001b[39m(\u001b[39m-\u001b[39m\u001b[39m2\u001b[39m, \u001b[39m12\u001b[39m), ylim\u001b[39m=\u001b[39m(\u001b[39m-\u001b[39m\u001b[39m10\u001b[39m, \u001b[39m10\u001b[39m), ground_truth\u001b[39m=\u001b[39mfn, bpoint_fn\u001b[39m=\u001b[39mSlopes\u001b[39m.\u001b[39mnew_breakpoint_finder, return_fig\u001b[39m=\u001b[39m\u001b[39mTrue\u001b[39;00m)\n\u001b[1;32m---> <a href='vscode-notebook-cell:/c%3A/Users/troosma/Documents/Ylikool/6.%20semester/Bakat%C3%B6%C3%B6/bakatoo/notebooks/19_hpc_script.ipynb#X10sZmlsZQ%3D%3D?line=22'>23</a>\u001b[0m variance_fig\u001b[39m.\u001b[39;49msavefig(\u001b[39mf\u001b[39;49m\u001b[39m\"\u001b[39;49m\u001b[39mtest2/19_hpc_script/plots/variance/\u001b[39;49m\u001b[39m{\u001b[39;49;00mtrain_size\u001b[39m}\u001b[39;49;00m\u001b[39m_\u001b[39;49m\u001b[39m{\u001b[39;49;00mseed\u001b[39m}\u001b[39;49;00m\u001b[39m.png\u001b[39;49m\u001b[39m\"\u001b[39;49m)\n\u001b[0;32m     <a href='vscode-notebook-cell:/c%3A/Users/troosma/Documents/Ylikool/6.%20semester/Bakat%C3%B6%C3%B6/bakatoo/notebooks/19_hpc_script.ipynb#X10sZmlsZQ%3D%3D?line=24'>25</a>\u001b[0m rmses, rmse_fig \u001b[39m=\u001b[39m utils\u001b[39m.\u001b[39mjoonista_rmses5x(model\u001b[39m=\u001b[39mmodel, start\u001b[39m=\u001b[39m\u001b[39m0\u001b[39m, end\u001b[39m=\u001b[39m\u001b[39m10\u001b[39m, steps\u001b[39m=\u001b[39m\u001b[39m1000\u001b[39m, akna_laius\u001b[39m=\u001b[39m\u001b[39m0.1\u001b[39m,\n\u001b[0;32m     <a href='vscode-notebook-cell:/c%3A/Users/troosma/Documents/Ylikool/6.%20semester/Bakat%C3%B6%C3%B6/bakatoo/notebooks/19_hpc_script.ipynb#X10sZmlsZQ%3D%3D?line=25'>26</a>\u001b[0m                                     fn\u001b[39m=\u001b[39m\u001b[39mlambda\u001b[39;00m x: \u001b[39m0\u001b[39m\u001b[39m*\u001b[39mx, analyytiline_myra\u001b[39m=\u001b[39m\u001b[39mlambda\u001b[39;00m x: \u001b[39m0.09\u001b[39m\u001b[39m*\u001b[39mx\u001b[39m*\u001b[39m\u001b[39m*\u001b[39m\u001b[39m2\u001b[39m\u001b[39m+\u001b[39m\u001b[39m0.09\u001b[39m, show_plt\u001b[39m=\u001b[39m\u001b[39mFalse\u001b[39;00m)\n\u001b[0;32m     <a href='vscode-notebook-cell:/c%3A/Users/troosma/Documents/Ylikool/6.%20semester/Bakat%C3%B6%C3%B6/bakatoo/notebooks/19_hpc_script.ipynb#X10sZmlsZQ%3D%3D?line=26'>27</a>\u001b[0m rmse_fig\u001b[39m.\u001b[39msavefig(\u001b[39mf\u001b[39m\u001b[39m\"\u001b[39m\u001b[39mtest2/19_hpc_script/plots/rmses/\u001b[39m\u001b[39m{\u001b[39;00mtrain_size\u001b[39m}\u001b[39;00m\u001b[39m_\u001b[39m\u001b[39m{\u001b[39;00mseed\u001b[39m}\u001b[39;00m\u001b[39m.png\u001b[39m\u001b[39m\"\u001b[39m)\n",
      "File \u001b[1;32mc:\\Users\\troosma\\Documents\\Ylikool\\6. semester\\Bakatöö\\bakatoo\\env\\lib\\site-packages\\matplotlib\\figure.py:3274\u001b[0m, in \u001b[0;36mFigure.savefig\u001b[1;34m(self, fname, transparent, **kwargs)\u001b[0m\n\u001b[0;32m   3270\u001b[0m     \u001b[39mfor\u001b[39;00m ax \u001b[39min\u001b[39;00m \u001b[39mself\u001b[39m\u001b[39m.\u001b[39maxes:\n\u001b[0;32m   3271\u001b[0m         stack\u001b[39m.\u001b[39menter_context(\n\u001b[0;32m   3272\u001b[0m             ax\u001b[39m.\u001b[39mpatch\u001b[39m.\u001b[39m_cm_set(facecolor\u001b[39m=\u001b[39m\u001b[39m'\u001b[39m\u001b[39mnone\u001b[39m\u001b[39m'\u001b[39m, edgecolor\u001b[39m=\u001b[39m\u001b[39m'\u001b[39m\u001b[39mnone\u001b[39m\u001b[39m'\u001b[39m))\n\u001b[1;32m-> 3274\u001b[0m \u001b[39mself\u001b[39m\u001b[39m.\u001b[39mcanvas\u001b[39m.\u001b[39mprint_figure(fname, \u001b[39m*\u001b[39m\u001b[39m*\u001b[39mkwargs)\n",
      "File \u001b[1;32mc:\\Users\\troosma\\Documents\\Ylikool\\6. semester\\Bakatöö\\bakatoo\\env\\lib\\site-packages\\matplotlib\\backend_bases.py:2338\u001b[0m, in \u001b[0;36mFigureCanvasBase.print_figure\u001b[1;34m(self, filename, dpi, facecolor, edgecolor, orientation, format, bbox_inches, pad_inches, bbox_extra_artists, backend, **kwargs)\u001b[0m\n\u001b[0;32m   2334\u001b[0m \u001b[39mtry\u001b[39;00m:\n\u001b[0;32m   2335\u001b[0m     \u001b[39m# _get_renderer may change the figure dpi (as vector formats\u001b[39;00m\n\u001b[0;32m   2336\u001b[0m     \u001b[39m# force the figure dpi to 72), so we need to set it again here.\u001b[39;00m\n\u001b[0;32m   2337\u001b[0m     \u001b[39mwith\u001b[39;00m cbook\u001b[39m.\u001b[39m_setattr_cm(\u001b[39mself\u001b[39m\u001b[39m.\u001b[39mfigure, dpi\u001b[39m=\u001b[39mdpi):\n\u001b[1;32m-> 2338\u001b[0m         result \u001b[39m=\u001b[39m print_method(\n\u001b[0;32m   2339\u001b[0m             filename,\n\u001b[0;32m   2340\u001b[0m             facecolor\u001b[39m=\u001b[39mfacecolor,\n\u001b[0;32m   2341\u001b[0m             edgecolor\u001b[39m=\u001b[39medgecolor,\n\u001b[0;32m   2342\u001b[0m             orientation\u001b[39m=\u001b[39morientation,\n\u001b[0;32m   2343\u001b[0m             bbox_inches_restore\u001b[39m=\u001b[39m_bbox_inches_restore,\n\u001b[0;32m   2344\u001b[0m             \u001b[39m*\u001b[39m\u001b[39m*\u001b[39mkwargs)\n\u001b[0;32m   2345\u001b[0m \u001b[39mfinally\u001b[39;00m:\n\u001b[0;32m   2346\u001b[0m     \u001b[39mif\u001b[39;00m bbox_inches \u001b[39mand\u001b[39;00m restore_bbox:\n",
      "File \u001b[1;32mc:\\Users\\troosma\\Documents\\Ylikool\\6. semester\\Bakatöö\\bakatoo\\env\\lib\\site-packages\\matplotlib\\backend_bases.py:2204\u001b[0m, in \u001b[0;36mFigureCanvasBase._switch_canvas_and_return_print_method.<locals>.<lambda>\u001b[1;34m(*args, **kwargs)\u001b[0m\n\u001b[0;32m   2200\u001b[0m     optional_kws \u001b[39m=\u001b[39m {  \u001b[39m# Passed by print_figure for other renderers.\u001b[39;00m\n\u001b[0;32m   2201\u001b[0m         \u001b[39m\"\u001b[39m\u001b[39mdpi\u001b[39m\u001b[39m\"\u001b[39m, \u001b[39m\"\u001b[39m\u001b[39mfacecolor\u001b[39m\u001b[39m\"\u001b[39m, \u001b[39m\"\u001b[39m\u001b[39medgecolor\u001b[39m\u001b[39m\"\u001b[39m, \u001b[39m\"\u001b[39m\u001b[39morientation\u001b[39m\u001b[39m\"\u001b[39m,\n\u001b[0;32m   2202\u001b[0m         \u001b[39m\"\u001b[39m\u001b[39mbbox_inches_restore\u001b[39m\u001b[39m\"\u001b[39m}\n\u001b[0;32m   2203\u001b[0m     skip \u001b[39m=\u001b[39m optional_kws \u001b[39m-\u001b[39m {\u001b[39m*\u001b[39minspect\u001b[39m.\u001b[39msignature(meth)\u001b[39m.\u001b[39mparameters}\n\u001b[1;32m-> 2204\u001b[0m     print_method \u001b[39m=\u001b[39m functools\u001b[39m.\u001b[39mwraps(meth)(\u001b[39mlambda\u001b[39;00m \u001b[39m*\u001b[39margs, \u001b[39m*\u001b[39m\u001b[39m*\u001b[39mkwargs: meth(\n\u001b[0;32m   2205\u001b[0m         \u001b[39m*\u001b[39margs, \u001b[39m*\u001b[39m\u001b[39m*\u001b[39m{k: v \u001b[39mfor\u001b[39;00m k, v \u001b[39min\u001b[39;00m kwargs\u001b[39m.\u001b[39mitems() \u001b[39mif\u001b[39;00m k \u001b[39mnot\u001b[39;00m \u001b[39min\u001b[39;00m skip}))\n\u001b[0;32m   2206\u001b[0m \u001b[39melse\u001b[39;00m:  \u001b[39m# Let third-parties do as they see fit.\u001b[39;00m\n\u001b[0;32m   2207\u001b[0m     print_method \u001b[39m=\u001b[39m meth\n",
      "File \u001b[1;32mc:\\Users\\troosma\\Documents\\Ylikool\\6. semester\\Bakatöö\\bakatoo\\env\\lib\\site-packages\\matplotlib\\_api\\deprecation.py:410\u001b[0m, in \u001b[0;36mdelete_parameter.<locals>.wrapper\u001b[1;34m(*inner_args, **inner_kwargs)\u001b[0m\n\u001b[0;32m    400\u001b[0m     deprecation_addendum \u001b[39m=\u001b[39m (\n\u001b[0;32m    401\u001b[0m         \u001b[39mf\u001b[39m\u001b[39m\"\u001b[39m\u001b[39mIf any parameter follows \u001b[39m\u001b[39m{\u001b[39;00mname\u001b[39m!r}\u001b[39;00m\u001b[39m, they should be passed as \u001b[39m\u001b[39m\"\u001b[39m\n\u001b[0;32m    402\u001b[0m         \u001b[39mf\u001b[39m\u001b[39m\"\u001b[39m\u001b[39mkeyword, not positionally.\u001b[39m\u001b[39m\"\u001b[39m)\n\u001b[0;32m    403\u001b[0m     warn_deprecated(\n\u001b[0;32m    404\u001b[0m         since,\n\u001b[0;32m    405\u001b[0m         name\u001b[39m=\u001b[39m\u001b[39mrepr\u001b[39m(name),\n\u001b[1;32m   (...)\u001b[0m\n\u001b[0;32m    408\u001b[0m                  \u001b[39melse\u001b[39;00m deprecation_addendum,\n\u001b[0;32m    409\u001b[0m         \u001b[39m*\u001b[39m\u001b[39m*\u001b[39mkwargs)\n\u001b[1;32m--> 410\u001b[0m \u001b[39mreturn\u001b[39;00m func(\u001b[39m*\u001b[39minner_args, \u001b[39m*\u001b[39m\u001b[39m*\u001b[39minner_kwargs)\n",
      "File \u001b[1;32mc:\\Users\\troosma\\Documents\\Ylikool\\6. semester\\Bakatöö\\bakatoo\\env\\lib\\site-packages\\matplotlib\\backends\\backend_agg.py:517\u001b[0m, in \u001b[0;36mFigureCanvasAgg.print_png\u001b[1;34m(self, filename_or_obj, metadata, pil_kwargs, *args)\u001b[0m\n\u001b[0;32m    468\u001b[0m \u001b[39m@_api\u001b[39m\u001b[39m.\u001b[39mdelete_parameter(\u001b[39m\"\u001b[39m\u001b[39m3.5\u001b[39m\u001b[39m\"\u001b[39m, \u001b[39m\"\u001b[39m\u001b[39margs\u001b[39m\u001b[39m\"\u001b[39m)\n\u001b[0;32m    469\u001b[0m \u001b[39mdef\u001b[39;00m \u001b[39mprint_png\u001b[39m(\u001b[39mself\u001b[39m, filename_or_obj, \u001b[39m*\u001b[39margs,\n\u001b[0;32m    470\u001b[0m               metadata\u001b[39m=\u001b[39m\u001b[39mNone\u001b[39;00m, pil_kwargs\u001b[39m=\u001b[39m\u001b[39mNone\u001b[39;00m):\n\u001b[0;32m    471\u001b[0m     \u001b[39m\"\"\"\u001b[39;00m\n\u001b[0;32m    472\u001b[0m \u001b[39m    Write the figure to a PNG file.\u001b[39;00m\n\u001b[0;32m    473\u001b[0m \n\u001b[1;32m   (...)\u001b[0m\n\u001b[0;32m    515\u001b[0m \u001b[39m        *metadata*, including the default 'Software' key.\u001b[39;00m\n\u001b[0;32m    516\u001b[0m \u001b[39m    \"\"\"\u001b[39;00m\n\u001b[1;32m--> 517\u001b[0m     \u001b[39mself\u001b[39;49m\u001b[39m.\u001b[39;49m_print_pil(filename_or_obj, \u001b[39m\"\u001b[39;49m\u001b[39mpng\u001b[39;49m\u001b[39m\"\u001b[39;49m, pil_kwargs, metadata)\n",
      "File \u001b[1;32mc:\\Users\\troosma\\Documents\\Ylikool\\6. semester\\Bakatöö\\bakatoo\\env\\lib\\site-packages\\matplotlib\\backends\\backend_agg.py:464\u001b[0m, in \u001b[0;36mFigureCanvasAgg._print_pil\u001b[1;34m(self, filename_or_obj, fmt, pil_kwargs, metadata)\u001b[0m\n\u001b[0;32m    459\u001b[0m \u001b[39m\"\"\"\u001b[39;00m\n\u001b[0;32m    460\u001b[0m \u001b[39mDraw the canvas, then save it using `.image.imsave` (to which\u001b[39;00m\n\u001b[0;32m    461\u001b[0m \u001b[39m*pil_kwargs* and *metadata* are forwarded).\u001b[39;00m\n\u001b[0;32m    462\u001b[0m \u001b[39m\"\"\"\u001b[39;00m\n\u001b[0;32m    463\u001b[0m FigureCanvasAgg\u001b[39m.\u001b[39mdraw(\u001b[39mself\u001b[39m)\n\u001b[1;32m--> 464\u001b[0m mpl\u001b[39m.\u001b[39;49mimage\u001b[39m.\u001b[39;49mimsave(\n\u001b[0;32m    465\u001b[0m     filename_or_obj, \u001b[39mself\u001b[39;49m\u001b[39m.\u001b[39;49mbuffer_rgba(), \u001b[39mformat\u001b[39;49m\u001b[39m=\u001b[39;49mfmt, origin\u001b[39m=\u001b[39;49m\u001b[39m\"\u001b[39;49m\u001b[39mupper\u001b[39;49m\u001b[39m\"\u001b[39;49m,\n\u001b[0;32m    466\u001b[0m     dpi\u001b[39m=\u001b[39;49m\u001b[39mself\u001b[39;49m\u001b[39m.\u001b[39;49mfigure\u001b[39m.\u001b[39;49mdpi, metadata\u001b[39m=\u001b[39;49mmetadata, pil_kwargs\u001b[39m=\u001b[39;49mpil_kwargs)\n",
      "File \u001b[1;32mc:\\Users\\troosma\\Documents\\Ylikool\\6. semester\\Bakatöö\\bakatoo\\env\\lib\\site-packages\\matplotlib\\image.py:1664\u001b[0m, in \u001b[0;36mimsave\u001b[1;34m(fname, arr, vmin, vmax, cmap, format, origin, dpi, metadata, pil_kwargs)\u001b[0m\n\u001b[0;32m   1662\u001b[0m pil_kwargs\u001b[39m.\u001b[39msetdefault(\u001b[39m\"\u001b[39m\u001b[39mformat\u001b[39m\u001b[39m\"\u001b[39m, \u001b[39mformat\u001b[39m)\n\u001b[0;32m   1663\u001b[0m pil_kwargs\u001b[39m.\u001b[39msetdefault(\u001b[39m\"\u001b[39m\u001b[39mdpi\u001b[39m\u001b[39m\"\u001b[39m, (dpi, dpi))\n\u001b[1;32m-> 1664\u001b[0m image\u001b[39m.\u001b[39msave(fname, \u001b[39m*\u001b[39m\u001b[39m*\u001b[39mpil_kwargs)\n",
      "File \u001b[1;32mc:\\Users\\troosma\\Documents\\Ylikool\\6. semester\\Bakatöö\\bakatoo\\env\\lib\\site-packages\\PIL\\Image.py:2350\u001b[0m, in \u001b[0;36mImage.save\u001b[1;34m(self, fp, format, **params)\u001b[0m\n\u001b[0;32m   2348\u001b[0m         fp \u001b[39m=\u001b[39m builtins\u001b[39m.\u001b[39mopen(filename, \u001b[39m\"\u001b[39m\u001b[39mr+b\u001b[39m\u001b[39m\"\u001b[39m)\n\u001b[0;32m   2349\u001b[0m     \u001b[39melse\u001b[39;00m:\n\u001b[1;32m-> 2350\u001b[0m         fp \u001b[39m=\u001b[39m builtins\u001b[39m.\u001b[39;49mopen(filename, \u001b[39m\"\u001b[39;49m\u001b[39mw+b\u001b[39;49m\u001b[39m\"\u001b[39;49m)\n\u001b[0;32m   2352\u001b[0m \u001b[39mtry\u001b[39;00m:\n\u001b[0;32m   2353\u001b[0m     save_handler(\u001b[39mself\u001b[39m, fp, filename)\n",
      "\u001b[1;31mFileNotFoundError\u001b[0m: [Errno 2] No such file or directory: 'test2/19_hpc_script/plots/variance/10_0.png'"
     ]
    },
    {
     "data": {
      "image/png": "[encoded data removed]",
      "text/plain": [
       "<Figure size 600x600 with 1 Axes>"
      ]
     },
     "metadata": {},
     "output_type": "display_data"
    }
   ],
   "source": [
    "for train_size in train_sizes:    # kõik suurused\n",
    "    for seed in seeds:  # kõik seedid\n",
    "        utils.reset_seeds(seed)\n",
    "        X_train = np.random.uniform(0, 10, train_size)\n",
    "        model, h, (X_train, y_train) = train_model(\n",
    "            X_train, nn_size=(20, 20), epochs=epochs,\n",
    "            fn=fn, noise_fn=noise_fn, seed=seed\n",
    "        )\n",
    "        y_pred_train = model.predict(X_train, batch_size=65536, verbose=0)\n",
    "        y_pred_grid = model.predict(X_grid_test, batch_size=65536, verbose=0)\n",
    "\n",
    "        mse_treeningul = keras.losses.mean_squared_error(y_train, y_pred_train[:, 0])\n",
    "        mse_grid_testil = keras.losses.mean_squared_error(y_grid_test, y_pred_grid[:, 0])\n",
    "        mse_treening_andmete_teine_myra = samad_punktid_kui_treeningul_teine_myra(X_train, model, fn, noise_fn, test_goal)\n",
    "\n",
    "        model.save(\n",
    "            f\"test2/19_hpc_script/models/{train_size}_{seed}\", overwrite=True)\n",
    "        # m = tf.keras.models.load_model(\"test2/19_hpc_script/models/10_0\", custom_objects={'neg_log_likelihood': utils.neg_log_likelihood})\n",
    "        \n",
    "\n",
    "        variance_fig = utils.joonista_variance(model, X_test=np.linspace(-2, 12, 1000), X_train=X_train, y_train=y_train,\n",
    "                        xlim=(-2, 12), ylim=(-10, 10), ground_truth=fn, bpoint_fn=Slopes.new_breakpoint_finder, return_fig=True)\n",
    "        variance_fig.savefig(f\"test2/19_hpc_script/plots/variance/{train_size}_{seed}.png\")\n",
    "\n",
    "        rmses, rmse_fig = utils.joonista_rmses5x(model=model, start=0, end=10, steps=1000, akna_laius=0.1,\n",
    "                                            fn=lambda x: 0*x, analyytiline_myra=lambda x: 0.09*x**2+0.09, show_plt=False)\n",
    "        rmse_fig.savefig(f\"test2/19_hpc_script/plots/rmses/{train_size}_{seed}.png\")\n",
    "\n",
    "        bpoints = Slopes.new_breakpoint_finder(model, np.linspace(-2, 12, 10**6))\n",
    "        bpoints = [bp[0] for bp in bpoints]\n",
    "\n",
    "        save_everything(train_size,seed, y_pred=y_pred_grid, rmses=rmses, mses=[mse_treeningul, mse_grid_testil, mse_treening_andmete_teine_myra], bp=bpoints)\n",
    "\n",
    "        break\n",
    "    break"
   ]
  },
  {
   "cell_type": "code",
   "execution_count": null,
   "metadata": {},
   "outputs": [],
   "source": [
    "korduv_test_viga.append([])\n",
    "korduv_treening_viga.append([])\n",
    "for i in range(5):  # tõmbame kõiki eksperimente 5x\n",
    "    x_train = np.linspace(0, 10, dset_size)\n",
    "\n",
    "    m, h, (x_train, y_train, x_truth, ground_truth) = train_model_nb(\n",
    "         x_train, **param_dict[dset_size], seed=None, optimizer=opt)\n",
    "\n",
    "     rmses, fig = utils.joonista_rmses5x(\n",
    "          m, start=-2, end=12, steps=1000, fn=fn, akna_laius=0.1, return_fig=True)\n",
    "\n",
    "      # treening viga\n",
    "      korduv_treening_viga[-1].append(m.evaluate(x_train,\n",
    "                                                  y_train, verbose=0))\n",
    "\n",
    "       # test viga\n",
    "       if len(x_train) < goal_test:\n",
    "            uus_x = np.repeat(x_train, goal_test/len(x_train))\n",
    "        else:\n",
    "            uus_x = x_train\n",
    "        y_test = fn(uus_x) + 0.3*np.random.randn(len(uus_x)) + \\\n",
    "            0.3*uus_x*np.random.randn(len(uus_x))\n",
    "        viga = m.evaluate(uus_x, y_test, verbose=0)\n",
    "        korduv_test_viga[-1].append(viga)\n"
   ]
  }
 ],
 "metadata": {
  "kernelspec": {
   "display_name": "env",
   "language": "python",
   "name": "python3"
  },
  "language_info": {
   "codemirror_mode": {
    "name": "ipython",
    "version": 3
   },
   "file_extension": ".py",
   "mimetype": "text/x-python",
   "name": "python",
   "nbconvert_exporter": "python",
   "pygments_lexer": "ipython3",
   "version": "3.9.1"
  },
  "orig_nbformat": 4
 },
 "nbformat": 4,
 "nbformat_minor": 2
}
