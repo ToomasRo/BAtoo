{
 "cells": [
  {
   "cell_type": "code",
   "execution_count": 1,
   "metadata": {},
   "outputs": [
    {
     "name": "stdout",
     "output_type": "stream",
     "text": [
      "Layer 1 has 500 hidden units\n",
      "Layer 2 has 300 hidden units\n",
      "Layer 3 has 100 hidden units\n"
     ]
    }
   ],
   "source": [
    "n_hs = [500,300,100]\n",
    "for ilayer,n_h in enumerate(n_hs,1):\n",
    "    print('Layer',ilayer,'has',n_h,'hidden units')"
   ]
  },
  {
   "cell_type": "code",
   "execution_count": null,
   "metadata": {},
   "outputs": [],
   "source": [
    "\n",
    "plot_mean_and_variance(model, X_valid, X_train, y_train)"
   ]
  }
 ],
 "metadata": {
  "kernelspec": {
   "display_name": "env",
   "language": "python",
   "name": "python3"
  },
  "language_info": {
   "codemirror_mode": {
    "name": "ipython",
    "version": 3
   },
   "file_extension": ".py",
   "mimetype": "text/x-python",
   "name": "python",
   "nbconvert_exporter": "python",
   "pygments_lexer": "ipython3",
   "version": "3.9.1 (tags/v3.9.1:1e5d33e, Dec  7 2020, 17:08:21) [MSC v.1927 64 bit (AMD64)]"
  },
  "orig_nbformat": 4,
  "vscode": {
   "interpreter": {
    "hash": "63be25ffb5f61b34fb524990c472020f23a33bbb1018416951e86ba4945e160c"
   }
  }
 },
 "nbformat": 4,
 "nbformat_minor": 2
}
