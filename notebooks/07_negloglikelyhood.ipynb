{
 "cells": [
  {
   "cell_type": "code",
   "execution_count": 1,
   "metadata": {},
   "outputs": [
    {
     "name": "stdout",
     "output_type": "stream",
     "text": [
      "c:\\Users\\troosma\\Documents\\Ylikool\\6. semester\\Bakatöö\\bakatoo\n"
     ]
    }
   ],
   "source": [
    "%load_ext autoreload\n",
    "%autoreload 2\n",
    "%cd .."
   ]
  },
  {
   "cell_type": "code",
   "execution_count": 2,
   "metadata": {},
   "outputs": [],
   "source": [
    "import numpy as np\n",
    "import random \n",
    "import tensorflow as tf\n",
    "\n",
    "from tensorflow import keras\n",
    "from keras import layers\n",
    "\n",
    "from matplotlib import pyplot as plt\n",
    "\n",
    "from scripts.CustomCallbacks import CustomLogger\n",
    "import scripts.utils as utils\n",
    "import scripts.Slopes as Slopes\n",
    "\n",
    "utils.reset_seeds(0)"
   ]
  },
  {
   "cell_type": "code",
   "execution_count": 3,
   "metadata": {},
   "outputs": [],
   "source": [
    "import sys"
   ]
  },
  {
   "cell_type": "code",
   "execution_count": 19,
   "metadata": {},
   "outputs": [],
   "source": [
    "def neg_log_likelihood(y_true ,y_predicted):\n",
    "    #print(\"y_s\")\n",
    "    #print(y_test.shape)\n",
    "    #y_predicted += 1e-6\n",
    "    y_pred_mean, y_pred_sd = y_predicted[:,0], y_predicted[:,1]\n",
    "    # y_pred_sd += 1e-6\n",
    "    # y_pred_mean += 1e-6\n",
    "    # y_pred_sd = tf.clip_by_value(t=tf.math.square(y_pred_sd),\n",
    "    #                                clip_value_min=tf.constant(1e-4),\n",
    "    #                                clip_value_max=tf.constant(1e+100))\n",
    "    #y_pred_sd = tf.math.exp(y_pred_sd)\n",
    "    # if False:\n",
    "    #     # print(\"y_pred_mean\")\n",
    "    #     # tf.print(y_pred_mean, output_stream=sys.stdout)\n",
    "    #     # print(\"y_pred_sd\")\n",
    "    #     # tf.print(y_pred_sd)\n",
    "    #     #y_pred_sd += 1e-6\n",
    "    #     # with tf.Session() as sess:  \n",
    "    #     #     print(y_pred_mean.eval()) \n",
    "    #     #a = 0/0\n",
    "    #     # with tf.compat.v1.Session() as sess:\n",
    "    #     #     print(y_pred_mean.eval())\n",
    "    #     #     print(y_pred_sd.eval())\n",
    "    #     ...\n",
    "    \n",
    "    #tf.print(y_pred_sd)\n",
    "    #tf.print(tf.reduce_mean(tf.math.log(tf.math.square(y_pred_sd)) + 0.5 * tf.math.square((y_pred_mean - y_true) / tf.math.square(y_pred_sd))))\n",
    "    # tf.print(tf.math.log(tf.math.square(y_pred_sd)))\n",
    "\n",
    "    return - tf.reduce_mean(y_pred_sd + 0.5 * tf.math.square((y_pred_mean - y_true) / tf.math.exp(y_pred_sd)))"
   ]
  },
  {
   "cell_type": "code",
   "execution_count": 5,
   "metadata": {},
   "outputs": [],
   "source": [
    "def train_model(m, epochs=2000):\n",
    "    X = np.linspace(-1, 1, 50)\n",
    "    y = X**2\n",
    "    X_train, y_train = X, y\n",
    "    X_valid, y_valid = np.linspace(-1, 1, 10000), np.linspace(-1, 1, 10000)**2\n",
    "\n",
    "    m.compile(\n",
    "        optimizer=keras.optimizers.Adam(\n",
    "            learning_rate=0.01, amsgrad=False, epsilon=0.001),\n",
    "        loss=neg_log_likelihood,\n",
    "        metrics=[keras.metrics.MeanSquaredError()],\n",
    "    )\n",
    "\n",
    "    h = m.fit(X, y, batch_size=8, epochs=epochs, verbose=0,\n",
    "                    callbacks=[CustomLogger(100)])\n",
    "\n",
    "    return m"
   ]
  },
  {
   "cell_type": "code",
   "execution_count": 29,
   "metadata": {},
   "outputs": [],
   "source": [
    "def plot_mean_and_variance(m, X, X_train=np.linspace(-1, 1, 50), y_train=None):\n",
    "    # for each prediction, plot the mean value and the variance of the prediction\n",
    "    if y_train is None:\n",
    "        y_train = X_train**2\n",
    "        \n",
    "    y_pred = m.predict(X)\n",
    "    # print(y_pred)\n",
    "    y_pred_mean, y_pred_sd = y_pred[:,0], y_pred[:,1]\n",
    "    y_pred_sd = np.exp(y_pred_sd)\n",
    "    plt.plot(X, y_pred_mean, label=\"mean\")\n",
    "    plt.fill_between(X, y_pred_mean - y_pred_sd, y_pred_mean + y_pred_sd, alpha=0.2, label=\"variance\")\n",
    "    plt.scatter(X_train, y_train, marker='+', color=\"red\", label=\"train\")\n",
    "    plt.legend()\n",
    "    plt.show()"
   ]
  },
  {
   "cell_type": "code",
   "execution_count": 7,
   "metadata": {},
   "outputs": [],
   "source": [
    "X_valid, y_valid = np.linspace(-1, 1, 10000), np.linspace(-1, 1, 10000)**2\n"
   ]
  },
  {
   "cell_type": "code",
   "execution_count": 8,
   "metadata": {},
   "outputs": [
    {
     "name": "stdout",
     "output_type": "stream",
     "text": [
      "Epoch:   0 | Loss: -2.19371e-01\n",
      "Epoch: 100 | Loss: -6.65947e-01\n",
      "Epoch: 200 | Loss: -6.67898e-01\n",
      "Epoch: 300 | Loss: -6.57471e-01\n",
      "Epoch: 400 | Loss: -6.65136e-01\n",
      "Epoch: 500 | Loss: -6.66550e-01\n",
      "Epoch: 600 | Loss: -6.64899e-01\n",
      "Epoch: 700 | Loss: -6.63876e-01\n",
      "Epoch: 800 | Loss: -6.64740e-01\n",
      "Epoch: 900 | Loss: -6.66368e-01\n",
      "Epoch: 1000 | Loss: -6.63981e-01\n",
      "Epoch: 1100 | Loss: -6.64850e-01\n",
      "Epoch: 1200 | Loss: -6.64965e-01\n",
      "Epoch: 1300 | Loss: -6.65511e-01\n",
      "Epoch: 1400 | Loss: -6.56646e-01\n",
      "Epoch: 1500 | Loss: -6.64365e-01\n",
      "Epoch: 1600 | Loss: -6.66661e-01\n",
      "Epoch: 1700 | Loss: -6.63218e-01\n",
      "Epoch: 1800 | Loss: -6.65890e-01\n",
      "Epoch: 1900 | Loss: -6.67355e-01\n",
      "313/313 [==============================] - 1s 2ms/step\n"
     ]
    },
    {
     "data": {
      "image/png": "[encoded data removed]",
      "text/plain": [
       "<Figure size 640x480 with 1 Axes>"
      ]
     },
     "metadata": {},
     "output_type": "display_data"
    }
   ],
   "source": [
    "utils.reset_seeds(2002)\n",
    "\n",
    "model = keras.Sequential([\n",
    "    layers.Input(shape=(1,)),\n",
    "    layers.Dense(units=50, activation='sigmoid', name=\"layer_1\"),\n",
    "    layers.Dense(units=50, activation='sigmoid', name=\"layer_2\"),\n",
    "    layers.Dense(units=50, activation='sigmoid', name=\"layer_2b\"),\n",
    "    layers.Dense(units=50, activation='sigmoid', name=\"layer_2c\"),\n",
    "    layers.Dense(units=2, activation='sigmoid', name=\"layer_3\"),\n",
    "])\n",
    "\n",
    "X = np.linspace(-1, 1, 50)\n",
    "y = X**2 + np.random.normal(0, 0.02, 50)\n",
    "X_train, y_train = X, y\n",
    "X_valid, y_valid = np.linspace(-1, 1, 10000), np.linspace(-1, 1, 10000)**2\n",
    "\n",
    "model.compile(\n",
    "    optimizer=keras.optimizers.Adam(\n",
    "        learning_rate=0.001, amsgrad=False, epsilon=0.001),\n",
    "    loss=neg_log_likelihood,\n",
    "    metrics=[keras.metrics.MeanSquaredError()],\n",
    ")\n",
    "\n",
    "h = model.fit(X, y, batch_size=8, epochs=2000, verbose=0,\n",
    "                callbacks=[CustomLogger(100)])\n",
    "\n",
    "\n",
    "plot_mean_and_variance(model, X_valid, X_train, y_train)"
   ]
  },
  {
   "cell_type": "code",
   "execution_count": 81,
   "metadata": {},
   "outputs": [],
   "source": [
    "def neg_log_likelihood(y_true ,y_predicted):\n",
    "    #print(\"y_s\")\n",
    "    #print(y_test.shape)\n",
    "    #y_predicted += 1e-6\n",
    "    y_pred_mean, y_pred_sd = y_predicted[:,0], y_predicted[:,1]\n",
    "    # y_pred_sd += 1e-6\n",
    "    # y_pred_mean += 1e-6\n",
    "\n",
    "\n",
    "    y_pred_sd = tf.clip_by_value(t=y_pred_sd,\n",
    "                                   clip_value_min=tf.constant(-15.0),\n",
    "                                   clip_value_max=tf.constant(+15.0))\n",
    "\n",
    "\n",
    "    #y_pred_sd = tf.math.exp(y_pred_sd)\n",
    "    # if False:\n",
    "    #     # print(\"y_pred_mean\")\n",
    "    #     # tf.print(y_pred_mean, output_stream=sys.stdout)\n",
    "    #     # print(\"y_pred_sd\")\n",
    "    #     # tf.print(y_pred_sd)\n",
    "    #     #y_pred_sd += 1e-6\n",
    "    #     # with tf.Session() as sess:  \n",
    "    #     #     print(y_pred_mean.eval()) \n",
    "    #     #a = 0/0\n",
    "    #     # with tf.compat.v1.Session() as sess:\n",
    "    #     #     print(y_pred_mean.eval())\n",
    "    #     #     print(y_pred_sd.eval())\n",
    "    #     ...\n",
    "    \n",
    "    #tf.print(y_pred_sd)\n",
    "    #tf.print(tf.reduce_mean(tf.math.log(tf.math.square(y_pred_sd)) + 0.5 * tf.math.square((y_pred_mean - y_true) / tf.math.square(y_pred_sd))))\n",
    "    # tf.print(tf.math.log(tf.math.square(y_pred_sd)))\n",
    "\n",
    "    # y_pred_sd ongi log variance\n",
    "    return tf.reduce_mean(y_pred_sd + tf.math.square((y_pred_mean - y_true) / tf.math.exp(y_pred_sd)))"
   ]
  },
  {
   "cell_type": "code",
   "execution_count": 79,
   "metadata": {},
   "outputs": [
    {
     "data": {
      "text/plain": [
       "[<tf.Variable 'layer_3/kernel:0' shape=(100, 2) dtype=float32, numpy=\n",
       " array([[-5.16596437e-03,  3.52763236e-02],\n",
       "        [-1.68548360e-01,  1.43112004e-01],\n",
       "        [ 8.94930959e-02, -1.19942635e-01],\n",
       "        [ 2.33879685e-02, -1.80710807e-01],\n",
       "        [-8.21697861e-02,  1.38419211e-01],\n",
       "        [-1.50630414e-01,  1.67931587e-01],\n",
       "        [ 1.64453655e-01,  3.75284255e-03],\n",
       "        [-1.86739534e-01, -1.76902264e-02],\n",
       "        [-2.03001767e-01, -1.26075149e-01],\n",
       "        [ 8.90993476e-02, -5.65928668e-02],\n",
       "        [-2.34195173e-01,  4.21952009e-02],\n",
       "        [-1.11972615e-01, -1.94732159e-01],\n",
       "        [ 2.16385931e-01, -2.15675682e-01],\n",
       "        [ 1.67745471e-01,  1.89225197e-01],\n",
       "        [-1.42879963e-01,  1.53738260e-02],\n",
       "        [ 1.89080834e-04,  1.31577879e-01],\n",
       "        [ 9.54422355e-02,  2.20367193e-01],\n",
       "        [ 1.14980310e-01, -9.36885774e-02],\n",
       "        [-1.25150815e-01,  1.84977829e-01],\n",
       "        [ 2.39785403e-01,  5.04026413e-02],\n",
       "        [-1.44256592e-01, -4.12272513e-02],\n",
       "        [ 2.23433375e-01,  1.20893508e-01],\n",
       "        [-2.17813119e-01, -1.97096556e-01],\n",
       "        [ 1.73540235e-01,  5.72469831e-02],\n",
       "        [ 1.92752331e-01,  1.20452642e-01],\n",
       "        [ 2.40094066e-01, -1.30313784e-01],\n",
       "        [-1.52611136e-02, -2.29158103e-02],\n",
       "        [-1.08574703e-01,  8.55135620e-02],\n",
       "        [-4.53906059e-02,  9.24100578e-02],\n",
       "        [ 1.08112901e-01, -2.11409926e-01],\n",
       "        [ 2.22978294e-01,  9.10623968e-02],\n",
       "        [ 2.27867216e-01,  1.22801840e-01],\n",
       "        [-1.80250347e-01,  1.12902105e-01],\n",
       "        [ 1.79125309e-01, -2.12861389e-01],\n",
       "        [-1.82195529e-01,  1.98768109e-01],\n",
       "        [ 2.64271200e-02, -1.35623619e-01],\n",
       "        [ 1.83114141e-01, -1.01450950e-01],\n",
       "        [ 1.30501717e-01,  2.40587205e-01],\n",
       "        [ 2.37023115e-01,  3.21758389e-02],\n",
       "        [-9.07190889e-02,  1.83895588e-01],\n",
       "        [ 8.04365277e-02, -1.07454628e-01],\n",
       "        [ 2.69810259e-02, -3.41636986e-02],\n",
       "        [ 2.01536536e-01, -8.56313109e-03],\n",
       "        [-2.24305823e-01,  1.66163385e-01],\n",
       "        [ 1.62647098e-01,  2.15845406e-01],\n",
       "        [ 1.74308151e-01,  1.21225715e-01],\n",
       "        [-1.13983139e-01,  1.68713391e-01],\n",
       "        [ 2.14016110e-01, -1.69657916e-01],\n",
       "        [ 2.61217058e-02,  2.33020753e-01],\n",
       "        [-1.19277589e-01,  8.60933363e-02],\n",
       "        [ 4.62929904e-03, -8.60163569e-03],\n",
       "        [ 9.83603895e-02, -2.30368719e-01],\n",
       "        [-1.94865152e-01,  8.62714946e-02],\n",
       "        [-1.76176339e-01,  6.47007823e-02],\n",
       "        [ 4.50424850e-02,  2.13827491e-02],\n",
       "        [ 1.32840395e-01,  9.59247351e-02],\n",
       "        [ 1.70405865e-01, -2.27601454e-01],\n",
       "        [ 8.51901472e-02,  7.03673065e-02],\n",
       "        [ 1.80522114e-01, -1.91427410e-01],\n",
       "        [-2.30176628e-01, -1.58524513e-01],\n",
       "        [-1.96254686e-01,  1.23018622e-02],\n",
       "        [ 6.01726770e-03,  3.51492763e-02],\n",
       "        [ 1.30878031e-01,  1.41817153e-01],\n",
       "        [-9.12874639e-02, -1.89406827e-01],\n",
       "        [-1.48170546e-01, -6.39672875e-02],\n",
       "        [-1.46886647e-01, -1.78366005e-01],\n",
       "        [ 2.09980965e-01,  1.64924532e-01],\n",
       "        [-1.18597567e-01,  4.91913855e-02],\n",
       "        [-9.39040333e-02, -1.50649160e-01],\n",
       "        [-1.25484645e-01, -3.96215171e-02],\n",
       "        [-1.36932671e-01, -1.80097520e-01],\n",
       "        [-8.56609643e-02, -2.76429504e-02],\n",
       "        [ 1.64812118e-01,  2.03415334e-01],\n",
       "        [ 1.40585631e-01,  5.23925722e-02],\n",
       "        [-7.70469457e-02,  1.01496398e-01],\n",
       "        [ 1.93671197e-01,  1.56870723e-01],\n",
       "        [-1.66634008e-01, -1.10658944e-01],\n",
       "        [ 1.27234370e-01,  4.97308969e-02],\n",
       "        [ 7.77044892e-02, -4.87384349e-02],\n",
       "        [ 8.22764039e-02, -8.25797021e-02],\n",
       "        [ 2.30893135e-01,  1.82744622e-01],\n",
       "        [-1.87345415e-01,  1.98472232e-01],\n",
       "        [ 5.02546132e-03, -1.61544591e-01],\n",
       "        [-1.65574759e-01, -1.44857109e-01],\n",
       "        [ 8.04781020e-02, -1.25571206e-01],\n",
       "        [-3.37784141e-02, -6.21732026e-02],\n",
       "        [-1.74853891e-01, -1.17259204e-01],\n",
       "        [ 4.01824713e-02, -1.75890982e-01],\n",
       "        [ 2.89772749e-02, -1.63655221e-01],\n",
       "        [ 1.59127235e-01,  2.15785772e-01],\n",
       "        [-2.23562658e-01,  1.14503384e-01],\n",
       "        [-1.25852764e-01,  1.27688169e-01],\n",
       "        [ 1.64725900e-01, -2.41829902e-02],\n",
       "        [-1.40049189e-01, -1.18418887e-01],\n",
       "        [ 3.96750569e-02, -9.86604393e-03],\n",
       "        [ 1.95400834e-01,  1.23533279e-01],\n",
       "        [-8.11004341e-02,  1.62250340e-01],\n",
       "        [-9.29359347e-02,  3.41102183e-02],\n",
       "        [-4.40424681e-02, -1.49732739e-01],\n",
       "        [ 1.55138582e-01,  1.53732717e-01]], dtype=float32)>,\n",
       " <tf.Variable 'layer_3/bias:0' shape=(2,) dtype=float32, numpy=array([0., 0.], dtype=float32)>]"
      ]
     },
     "execution_count": 79,
     "metadata": {},
     "output_type": "execute_result"
    }
   ],
   "source": [
    "utils.reset_seeds(2002)\n",
    "\n",
    "model = keras.Sequential([\n",
    "    layers.Input(shape=(1,)),\n",
    "    layers.Dense(units=100, activation='relu', name=\"layer_1\"),\n",
    "    layers.Dense(units=100, activation='relu', name=\"layer_2\"),\n",
    "    layers.Dense(units=100, activation='relu', name=\"layer_2b\"),\n",
    "    layers.Dense(units=2, activation='linear', name=\"layer_3\")#, kernel_initializer=keras.initializers.RandomNormal(mean=0.0, stddev=0.01, seed=None)),\n",
    "])\n",
    "last_layer = model.get_layer('layer_3')\n",
    "l_w = last_layer.trainable_weights\n",
    "l_w#[1].trainable = False"
   ]
  },
  {
   "cell_type": "code",
   "execution_count": 87,
   "metadata": {},
   "outputs": [
    {
     "name": "stdout",
     "output_type": "stream",
     "text": [
      "Epoch:   0 | Loss: 1.64339e-01\n",
      "Epoch: 100 | Loss: -3.35483e-01\n",
      "Epoch: 200 | Loss: -3.25488e-01\n",
      "Epoch: 300 | Loss: -3.22929e-01\n",
      "Epoch: 400 | Loss: -3.16916e-01\n",
      "Epoch: 500 | Loss: -3.21944e-01\n",
      "Epoch: 600 | Loss: -3.42811e-01\n",
      "Epoch: 700 | Loss: -3.34810e-01\n",
      "Epoch: 800 | Loss: -3.44418e-01\n",
      "Epoch: 900 | Loss: -3.46521e-01\n",
      "313/313 [==============================] - 2s 7ms/step\n"
     ]
    },
    {
     "data": {
      "image/png": "[encoded data removed]",
      "text/plain": [
       "<Figure size 640x480 with 1 Axes>"
      ]
     },
     "metadata": {},
     "output_type": "display_data"
    }
   ],
   "source": [
    "utils.reset_seeds(2002)\n",
    "\n",
    "model = keras.Sequential([\n",
    "    layers.Input(shape=(1,)),\n",
    "    layers.Dense(units=100, activation='relu', name=\"layer_1\"),\n",
    "    layers.Dense(units=100, activation='relu', name=\"layer_2\"),\n",
    "    #layers.Dense(units=100, activation='relu', name=\"layer_2b\"),\n",
    "    layers.Dense(units=2, activation='linear', name=\"layer_3\")#, kernel_initializer=keras.initializers.RandomNormal(mean=0.0, stddev=0.01, seed=None)),\n",
    "])\n",
    "last_layer = model.get_layer('layer_3')\n",
    "l_w = last_layer.get_weights()\n",
    "\n",
    "\n",
    "X = np.linspace(-1, 1, 50)\n",
    "y = X**2\n",
    "X_train, y_train = X, y\n",
    "X_valid, y_valid = np.linspace(-1, 1, 10000), np.linspace(-1, 1, 10000)**2\n",
    "\n",
    "model.compile(\n",
    "    #optimizer=keras.optimizers.SGD()\"SGD\",\n",
    "    optimizer=keras.optimizers.Adam(\n",
    "       learning_rate=0.001, amsgrad=True, epsilon=0.001),#epsilon=0.001\n",
    "    loss=neg_log_likelihood,\n",
    "    #metrics=[keras.metrics.MeanSquaredError()],\n",
    ")\n",
    "\n",
    "h = model.fit(X, y, batch_size=8, epochs=1000, verbose=0,\n",
    "                callbacks=[CustomLogger(100)])\n",
    "\n",
    "\n",
    "plot_mean_and_variance(model, X_valid, X_train)"
   ]
  },
  {
   "cell_type": "code",
   "execution_count": null,
   "metadata": {},
   "outputs": [],
   "source": [
    "new_l3 = [w*10 for w in model.get_layer('layer_3').get_weights()]\n",
    "new_l3[1] *= 100\n",
    "new_l3[0] = np.around(new_l3[0])\n",
    "new_l3[1] = np.around(new_l3[1])\n",
    "\n",
    "simple_weights.get_layer('layer_3').set_weights(new_l3)\n",
    "\n"
   ]
  },
  {
   "cell_type": "code",
   "execution_count": null,
   "metadata": {},
   "outputs": [],
   "source": [
    "model.weights"
   ]
  },
  {
   "cell_type": "code",
   "execution_count": 38,
   "metadata": {},
   "outputs": [
    {
     "data": {
      "text/plain": [
       "[<tf.Variable 'layer_1/kernel:0' shape=(1, 10) dtype=float32, numpy=\n",
       " array([[-0.62576896, -0.39457902, -0.0205129 ,  0.53686106,  0.20653649,\n",
       "          0.59102774, -0.21454562,  0.33277768, -0.4118534 , -0.12949902]],\n",
       "       dtype=float32)>,\n",
       " <tf.Variable 'layer_1/bias:0' shape=(10,) dtype=float32, numpy=\n",
       " array([-0.07620438,  0.0718923 ,  0.07360313, -0.06018271,  0.07661424,\n",
       "         0.0381523 ,  0.11919266, -0.03616139, -0.04229193, -0.12978853],\n",
       "       dtype=float32)>,\n",
       " <tf.Variable 'layer_2/kernel:0' shape=(10, 10) dtype=float32, numpy=\n",
       " array([[-4.88460124e-01, -4.28525984e-01,  1.38440162e-01,\n",
       "         -2.77246982e-01,  3.77897769e-01, -4.48820293e-01,\n",
       "         -3.79467726e-01,  2.30214670e-01, -2.63669997e-01,\n",
       "         -1.17313802e-01],\n",
       "        [-1.14022285e-01, -3.83956075e-01,  4.31135148e-01,\n",
       "          1.88898802e-01,  2.58980215e-01,  2.75558650e-01,\n",
       "          2.86404878e-01,  2.89479911e-01, -4.62467521e-01,\n",
       "          1.96325675e-01],\n",
       "        [-7.60425776e-02,  3.32645297e-01, -2.56629139e-01,\n",
       "         -2.82368869e-01, -4.81520444e-02,  2.64196247e-01,\n",
       "         -7.80031458e-02, -1.75900653e-01, -4.82595593e-01,\n",
       "          4.33931381e-01],\n",
       "        [ 4.73588258e-01, -2.17580423e-01,  5.54896355e-01,\n",
       "         -1.95856780e-01,  3.42994571e-01,  2.63221055e-01,\n",
       "          4.58942294e-01,  4.17351127e-01, -2.23160252e-01,\n",
       "         -2.99742054e-02],\n",
       "        [-4.46149170e-01,  1.30802631e-01,  2.12336611e-02,\n",
       "          5.96400630e-03, -6.17763251e-02, -2.16784567e-01,\n",
       "         -1.14446819e-01,  1.19819887e-01,  4.28782254e-02,\n",
       "          4.91334200e-01],\n",
       "        [-4.93076339e-04,  2.82617331e-01,  3.20399076e-01,\n",
       "          4.36320931e-01, -1.79584280e-01, -1.32541537e-01,\n",
       "         -5.24325788e-01, -1.09905876e-01,  1.40630186e-01,\n",
       "          9.38362852e-02],\n",
       "        [-1.83548719e-01,  2.40317866e-01,  2.79103592e-02,\n",
       "          2.38905679e-02, -5.87551177e-01, -2.75082178e-02,\n",
       "          1.63274840e-01, -1.19694963e-01, -1.02281645e-01,\n",
       "          5.30331194e-01],\n",
       "        [ 4.78975266e-01,  1.94644496e-01, -3.76479805e-01,\n",
       "         -3.23036939e-01,  1.03976779e-01,  1.08129699e-02,\n",
       "         -2.17036784e-01,  1.98500946e-01,  4.02944952e-01,\n",
       "         -2.38560736e-01],\n",
       "        [ 2.64220417e-01,  4.17786062e-01, -2.72658113e-02,\n",
       "          3.87748420e-01, -2.94333786e-01,  2.14752495e-01,\n",
       "         -1.04509145e-02,  4.46408629e-01,  1.38842940e-01,\n",
       "          1.24584110e-02],\n",
       "        [ 3.85622561e-01, -7.93943107e-02,  2.30356827e-01,\n",
       "          4.01597798e-01,  3.33235174e-01,  4.22762573e-01,\n",
       "         -1.97983444e-01,  4.45673972e-01, -1.65661156e-01,\n",
       "         -2.31095970e-01]], dtype=float32)>,\n",
       " <tf.Variable 'layer_2/bias:0' shape=(10,) dtype=float32, numpy=\n",
       " array([ 0.04774557, -0.03577684,  0.07212625, -0.07714473, -0.07438312,\n",
       "        -0.04352293, -0.05000319,  0.00442099, -0.08878873,  0.08662739],\n",
       "       dtype=float32)>,\n",
       " <tf.Variable 'layer_3/kernel:0' shape=(10, 2) dtype=float32, numpy=\n",
       " array([[-0.04204316,  0.25538293],\n",
       "        [ 0.09762847,  0.22453728],\n",
       "        [ 0.42630687, -0.42575127],\n",
       "        [-0.09812621,  0.08529503],\n",
       "        [-0.30114776,  0.28566146],\n",
       "        [-0.05262884,  0.5854645 ],\n",
       "        [-0.45887557,  0.16067791],\n",
       "        [-0.01253812,  0.17496468],\n",
       "        [-0.12221619,  0.59531915],\n",
       "        [ 0.6956862 ,  0.33743957]], dtype=float32)>,\n",
       " <tf.Variable 'layer_3/bias:0' shape=(2,) dtype=float32, numpy=array([ 0.08004861, -0.03726821], dtype=float32)>]"
      ]
     },
     "execution_count": 38,
     "metadata": {},
     "output_type": "execute_result"
    }
   ],
   "source": [
    "model.weights"
   ]
  },
  {
   "cell_type": "code",
   "execution_count": 41,
   "metadata": {},
   "outputs": [
    {
     "data": {
      "text/plain": [
       "0.9987147372585489"
      ]
     },
     "execution_count": 41,
     "metadata": {},
     "output_type": "execute_result"
    }
   ],
   "source": [
    "np.exp(-1.2860894e-03)"
   ]
  },
  {
   "cell_type": "code",
   "execution_count": 42,
   "metadata": {},
   "outputs": [
    {
     "data": {
      "text/plain": [
       "1.0007337936549319"
      ]
     },
     "execution_count": 42,
     "metadata": {},
     "output_type": "execute_result"
    }
   ],
   "source": [
    "np.exp(7.3352456e-04)"
   ]
  },
  {
   "cell_type": "code",
   "execution_count": 40,
   "metadata": {},
   "outputs": [
    {
     "name": "stdout",
     "output_type": "stream",
     "text": [
      "2/2 [==============================] - 0s 13ms/step\n"
     ]
    },
    {
     "data": {
      "text/plain": [
       "array([[ 4.4752038e-01,  3.5683140e-03],\n",
       "       [ 4.3970257e-01,  3.0828789e-03],\n",
       "       [ 4.3188471e-01,  2.5974438e-03],\n",
       "       [ 4.2406690e-01,  2.1119937e-03],\n",
       "       [ 4.1624910e-01,  1.6265586e-03],\n",
       "       [ 4.0843123e-01,  1.1411160e-03],\n",
       "       [ 4.0061343e-01,  6.5565109e-04],\n",
       "       [ 3.9279562e-01,  1.7023832e-04],\n",
       "       [ 3.8497776e-01, -3.1521171e-04],\n",
       "       [ 3.7715995e-01, -8.0063939e-04],\n",
       "       [ 3.6934215e-01, -1.2860894e-03],\n",
       "       [ 3.6152428e-01, -1.7715394e-03],\n",
       "       [ 3.5370648e-01, -2.2569746e-03],\n",
       "       [ 3.4588867e-01, -2.7424097e-03],\n",
       "       [ 3.3807081e-01, -3.2278523e-03],\n",
       "       [ 3.3025301e-01, -3.7132874e-03],\n",
       "       [ 3.2416755e-01, -3.3174753e-03],\n",
       "       [ 3.1929487e-01, -2.3047179e-03],\n",
       "       [ 3.1442219e-01, -1.2919754e-03],\n",
       "       [ 3.0954957e-01, -2.7923658e-04],\n",
       "       [ 3.0467689e-01,  7.3352456e-04],\n",
       "       [ 2.9980421e-01,  1.7462596e-03],\n",
       "       [ 2.9461455e-01,  2.0646118e-03],\n",
       "       [ 2.8934705e-01,  2.9245540e-03],\n",
       "       [ 2.8904074e-01,  2.0908825e-03],\n",
       "       [ 2.8942078e-01,  2.8357767e-03],\n",
       "       [ 2.8974247e-01,  4.3953732e-03],\n",
       "       [ 2.9005849e-01,  6.0339794e-03],\n",
       "       [ 2.9008707e-01,  4.2031631e-03],\n",
       "       [ 2.9035339e-01,  2.8657876e-03],\n",
       "       [ 2.9454619e-01,  2.2037700e-03],\n",
       "       [ 2.9873899e-01,  1.5417375e-03],\n",
       "       [ 3.0293179e-01,  8.7971240e-04],\n",
       "       [ 3.0712456e-01,  2.1769106e-04],\n",
       "       [ 3.1131732e-01, -4.4433028e-04],\n",
       "       [ 3.1551015e-01, -1.1063665e-03],\n",
       "       [ 3.1970292e-01, -1.7683879e-03],\n",
       "       [ 3.2389569e-01, -2.4304092e-03],\n",
       "       [ 3.2808852e-01, -3.0924454e-03],\n",
       "       [ 3.3549988e-01, -2.5619492e-03],\n",
       "       [ 3.4331387e-01, -1.8822700e-03],\n",
       "       [ 3.5112786e-01, -1.2026206e-03],\n",
       "       [ 3.5894185e-01, -5.2294135e-04],\n",
       "       [ 3.6675584e-01,  1.5672296e-04],\n",
       "       [ 3.7456977e-01,  8.3640218e-04],\n",
       "       [ 3.8238382e-01,  1.5160665e-03],\n",
       "       [ 3.9019781e-01,  2.1957383e-03],\n",
       "       [ 3.9801180e-01,  2.8754100e-03],\n",
       "       [ 4.0582579e-01,  3.5550818e-03],\n",
       "       [ 4.1363978e-01,  4.2347461e-03]], dtype=float32)"
      ]
     },
     "execution_count": 40,
     "metadata": {},
     "output_type": "execute_result"
    }
   ],
   "source": [
    "model.predict(X_train)"
   ]
  },
  {
   "cell_type": "code",
   "execution_count": 44,
   "metadata": {},
   "outputs": [
    {
     "data": {
      "text/plain": [
       "<tf.Tensor: shape=(), dtype=float32, numpy=0.013497202>"
      ]
     },
     "execution_count": 44,
     "metadata": {},
     "output_type": "execute_result"
    }
   ],
   "source": [
    "y_pred_mean = 1.1 #4.4752038e-01\n",
    "y_pred_sd = 3.5683140e-03\n",
    "y_true = 1\n",
    "y_pred_sd + tf.math.square((y_pred_mean - y_true) / tf.math.exp(y_pred_sd))\n"
   ]
  },
  {
   "cell_type": "code",
   "execution_count": 36,
   "metadata": {},
   "outputs": [
    {
     "name": "stdout",
     "output_type": "stream",
     "text": [
      "Epoch:   0 | Loss: 9.29859e-02\n",
      "Epoch: 100 | Loss: 9.28545e-02\n",
      "Epoch: 200 | Loss: 9.57104e-02\n",
      "Epoch: 300 | Loss: 9.56673e-02\n",
      "Epoch: 400 | Loss: 9.73346e-02\n",
      "Epoch: 500 | Loss: 9.74980e-02\n",
      "Epoch: 600 | Loss: 9.38245e-02\n",
      "Epoch: 700 | Loss: 9.40336e-02\n",
      "Epoch: 800 | Loss: 9.24718e-02\n",
      "Epoch: 900 | Loss: 9.20429e-02\n",
      "Epoch: 1000 | Loss: 9.64645e-02\n",
      "Epoch: 1100 | Loss: 9.76465e-02\n",
      "Epoch: 1200 | Loss: 9.00120e-02\n",
      "Epoch: 1300 | Loss: 9.60947e-02\n",
      "Epoch: 1400 | Loss: 9.59211e-02\n",
      "Epoch: 1500 | Loss: 9.28308e-02\n",
      "Epoch: 1600 | Loss: 9.48864e-02\n",
      "Epoch: 1700 | Loss: 8.98272e-02\n",
      "Epoch: 1800 | Loss: 9.67606e-02\n",
      "Epoch: 1900 | Loss: 9.57115e-02\n",
      "Epoch: 2000 | Loss: 9.61380e-02\n",
      "Epoch: 2100 | Loss: 9.82563e-02\n",
      "Epoch: 2200 | Loss: 9.56885e-02\n"
     ]
    },
    {
     "ename": "KeyboardInterrupt",
     "evalue": "",
     "output_type": "error",
     "traceback": [
      "\u001b[1;31m---------------------------------------------------------------------------\u001b[0m",
      "\u001b[1;31mKeyboardInterrupt\u001b[0m                         Traceback (most recent call last)",
      "Cell \u001b[1;32mIn [36], line 1\u001b[0m\n\u001b[1;32m----> 1\u001b[0m model\u001b[39m.\u001b[39;49mfit(X, y, batch_size\u001b[39m=\u001b[39;49m\u001b[39m8\u001b[39;49m, epochs\u001b[39m=\u001b[39;49m\u001b[39m3000\u001b[39;49m, verbose\u001b[39m=\u001b[39;49m\u001b[39m0\u001b[39;49m,\n\u001b[0;32m      2\u001b[0m                 callbacks\u001b[39m=\u001b[39;49m[CustomLogger(\u001b[39m100\u001b[39;49m)])\n\u001b[0;32m      5\u001b[0m plot_mean_and_variance(model, X_valid)\n",
      "File \u001b[1;32mc:\\Users\\troosma\\Documents\\Ylikool\\6. semester\\Bakatöö\\bakatoo\\env\\lib\\site-packages\\keras\\utils\\traceback_utils.py:65\u001b[0m, in \u001b[0;36mfilter_traceback.<locals>.error_handler\u001b[1;34m(*args, **kwargs)\u001b[0m\n\u001b[0;32m     63\u001b[0m filtered_tb \u001b[39m=\u001b[39m \u001b[39mNone\u001b[39;00m\n\u001b[0;32m     64\u001b[0m \u001b[39mtry\u001b[39;00m:\n\u001b[1;32m---> 65\u001b[0m     \u001b[39mreturn\u001b[39;00m fn(\u001b[39m*\u001b[39margs, \u001b[39m*\u001b[39m\u001b[39m*\u001b[39mkwargs)\n\u001b[0;32m     66\u001b[0m \u001b[39mexcept\u001b[39;00m \u001b[39mException\u001b[39;00m \u001b[39mas\u001b[39;00m e:\n\u001b[0;32m     67\u001b[0m     filtered_tb \u001b[39m=\u001b[39m _process_traceback_frames(e\u001b[39m.\u001b[39m__traceback__)\n",
      "File \u001b[1;32mc:\\Users\\troosma\\Documents\\Ylikool\\6. semester\\Bakatöö\\bakatoo\\env\\lib\\site-packages\\keras\\engine\\training.py:1564\u001b[0m, in \u001b[0;36mModel.fit\u001b[1;34m(self, x, y, batch_size, epochs, verbose, callbacks, validation_split, validation_data, shuffle, class_weight, sample_weight, initial_epoch, steps_per_epoch, validation_steps, validation_batch_size, validation_freq, max_queue_size, workers, use_multiprocessing)\u001b[0m\n\u001b[0;32m   1556\u001b[0m \u001b[39mwith\u001b[39;00m tf\u001b[39m.\u001b[39mprofiler\u001b[39m.\u001b[39mexperimental\u001b[39m.\u001b[39mTrace(\n\u001b[0;32m   1557\u001b[0m     \u001b[39m\"\u001b[39m\u001b[39mtrain\u001b[39m\u001b[39m\"\u001b[39m,\n\u001b[0;32m   1558\u001b[0m     epoch_num\u001b[39m=\u001b[39mepoch,\n\u001b[1;32m   (...)\u001b[0m\n\u001b[0;32m   1561\u001b[0m     _r\u001b[39m=\u001b[39m\u001b[39m1\u001b[39m,\n\u001b[0;32m   1562\u001b[0m ):\n\u001b[0;32m   1563\u001b[0m     callbacks\u001b[39m.\u001b[39mon_train_batch_begin(step)\n\u001b[1;32m-> 1564\u001b[0m     tmp_logs \u001b[39m=\u001b[39m \u001b[39mself\u001b[39;49m\u001b[39m.\u001b[39;49mtrain_function(iterator)\n\u001b[0;32m   1565\u001b[0m     \u001b[39mif\u001b[39;00m data_handler\u001b[39m.\u001b[39mshould_sync:\n\u001b[0;32m   1566\u001b[0m         context\u001b[39m.\u001b[39masync_wait()\n",
      "File \u001b[1;32mc:\\Users\\troosma\\Documents\\Ylikool\\6. semester\\Bakatöö\\bakatoo\\env\\lib\\site-packages\\tensorflow\\python\\util\\traceback_utils.py:150\u001b[0m, in \u001b[0;36mfilter_traceback.<locals>.error_handler\u001b[1;34m(*args, **kwargs)\u001b[0m\n\u001b[0;32m    148\u001b[0m filtered_tb \u001b[39m=\u001b[39m \u001b[39mNone\u001b[39;00m\n\u001b[0;32m    149\u001b[0m \u001b[39mtry\u001b[39;00m:\n\u001b[1;32m--> 150\u001b[0m   \u001b[39mreturn\u001b[39;00m fn(\u001b[39m*\u001b[39margs, \u001b[39m*\u001b[39m\u001b[39m*\u001b[39mkwargs)\n\u001b[0;32m    151\u001b[0m \u001b[39mexcept\u001b[39;00m \u001b[39mException\u001b[39;00m \u001b[39mas\u001b[39;00m e:\n\u001b[0;32m    152\u001b[0m   filtered_tb \u001b[39m=\u001b[39m _process_traceback_frames(e\u001b[39m.\u001b[39m__traceback__)\n",
      "File \u001b[1;32mc:\\Users\\troosma\\Documents\\Ylikool\\6. semester\\Bakatöö\\bakatoo\\env\\lib\\site-packages\\tensorflow\\python\\eager\\def_function.py:915\u001b[0m, in \u001b[0;36mFunction.__call__\u001b[1;34m(self, *args, **kwds)\u001b[0m\n\u001b[0;32m    912\u001b[0m compiler \u001b[39m=\u001b[39m \u001b[39m\"\u001b[39m\u001b[39mxla\u001b[39m\u001b[39m\"\u001b[39m \u001b[39mif\u001b[39;00m \u001b[39mself\u001b[39m\u001b[39m.\u001b[39m_jit_compile \u001b[39melse\u001b[39;00m \u001b[39m\"\u001b[39m\u001b[39mnonXla\u001b[39m\u001b[39m\"\u001b[39m\n\u001b[0;32m    914\u001b[0m \u001b[39mwith\u001b[39;00m OptionalXlaContext(\u001b[39mself\u001b[39m\u001b[39m.\u001b[39m_jit_compile):\n\u001b[1;32m--> 915\u001b[0m   result \u001b[39m=\u001b[39m \u001b[39mself\u001b[39m\u001b[39m.\u001b[39m_call(\u001b[39m*\u001b[39margs, \u001b[39m*\u001b[39m\u001b[39m*\u001b[39mkwds)\n\u001b[0;32m    917\u001b[0m new_tracing_count \u001b[39m=\u001b[39m \u001b[39mself\u001b[39m\u001b[39m.\u001b[39mexperimental_get_tracing_count()\n\u001b[0;32m    918\u001b[0m without_tracing \u001b[39m=\u001b[39m (tracing_count \u001b[39m==\u001b[39m new_tracing_count)\n",
      "File \u001b[1;32mc:\\Users\\troosma\\Documents\\Ylikool\\6. semester\\Bakatöö\\bakatoo\\env\\lib\\site-packages\\tensorflow\\python\\eager\\def_function.py:947\u001b[0m, in \u001b[0;36mFunction._call\u001b[1;34m(self, *args, **kwds)\u001b[0m\n\u001b[0;32m    944\u001b[0m   \u001b[39mself\u001b[39m\u001b[39m.\u001b[39m_lock\u001b[39m.\u001b[39mrelease()\n\u001b[0;32m    945\u001b[0m   \u001b[39m# In this case we have created variables on the first call, so we run the\u001b[39;00m\n\u001b[0;32m    946\u001b[0m   \u001b[39m# defunned version which is guaranteed to never create variables.\u001b[39;00m\n\u001b[1;32m--> 947\u001b[0m   \u001b[39mreturn\u001b[39;00m \u001b[39mself\u001b[39m\u001b[39m.\u001b[39m_stateless_fn(\u001b[39m*\u001b[39margs, \u001b[39m*\u001b[39m\u001b[39m*\u001b[39mkwds)  \u001b[39m# pylint: disable=not-callable\u001b[39;00m\n\u001b[0;32m    948\u001b[0m \u001b[39melif\u001b[39;00m \u001b[39mself\u001b[39m\u001b[39m.\u001b[39m_stateful_fn \u001b[39mis\u001b[39;00m \u001b[39mnot\u001b[39;00m \u001b[39mNone\u001b[39;00m:\n\u001b[0;32m    949\u001b[0m   \u001b[39m# Release the lock early so that multiple threads can perform the call\u001b[39;00m\n\u001b[0;32m    950\u001b[0m   \u001b[39m# in parallel.\u001b[39;00m\n\u001b[0;32m    951\u001b[0m   \u001b[39mself\u001b[39m\u001b[39m.\u001b[39m_lock\u001b[39m.\u001b[39mrelease()\n",
      "File \u001b[1;32mc:\\Users\\troosma\\Documents\\Ylikool\\6. semester\\Bakatöö\\bakatoo\\env\\lib\\site-packages\\tensorflow\\python\\eager\\function.py:2496\u001b[0m, in \u001b[0;36mFunction.__call__\u001b[1;34m(self, *args, **kwargs)\u001b[0m\n\u001b[0;32m   2493\u001b[0m \u001b[39mwith\u001b[39;00m \u001b[39mself\u001b[39m\u001b[39m.\u001b[39m_lock:\n\u001b[0;32m   2494\u001b[0m   (graph_function,\n\u001b[0;32m   2495\u001b[0m    filtered_flat_args) \u001b[39m=\u001b[39m \u001b[39mself\u001b[39m\u001b[39m.\u001b[39m_maybe_define_function(args, kwargs)\n\u001b[1;32m-> 2496\u001b[0m \u001b[39mreturn\u001b[39;00m graph_function\u001b[39m.\u001b[39;49m_call_flat(\n\u001b[0;32m   2497\u001b[0m     filtered_flat_args, captured_inputs\u001b[39m=\u001b[39;49mgraph_function\u001b[39m.\u001b[39;49mcaptured_inputs)\n",
      "File \u001b[1;32mc:\\Users\\troosma\\Documents\\Ylikool\\6. semester\\Bakatöö\\bakatoo\\env\\lib\\site-packages\\tensorflow\\python\\eager\\function.py:1862\u001b[0m, in \u001b[0;36mConcreteFunction._call_flat\u001b[1;34m(self, args, captured_inputs, cancellation_manager)\u001b[0m\n\u001b[0;32m   1858\u001b[0m possible_gradient_type \u001b[39m=\u001b[39m gradients_util\u001b[39m.\u001b[39mPossibleTapeGradientTypes(args)\n\u001b[0;32m   1859\u001b[0m \u001b[39mif\u001b[39;00m (possible_gradient_type \u001b[39m==\u001b[39m gradients_util\u001b[39m.\u001b[39mPOSSIBLE_GRADIENT_TYPES_NONE\n\u001b[0;32m   1860\u001b[0m     \u001b[39mand\u001b[39;00m executing_eagerly):\n\u001b[0;32m   1861\u001b[0m   \u001b[39m# No tape is watching; skip to running the function.\u001b[39;00m\n\u001b[1;32m-> 1862\u001b[0m   \u001b[39mreturn\u001b[39;00m \u001b[39mself\u001b[39m\u001b[39m.\u001b[39m_build_call_outputs(\u001b[39mself\u001b[39;49m\u001b[39m.\u001b[39;49m_inference_function\u001b[39m.\u001b[39;49mcall(\n\u001b[0;32m   1863\u001b[0m       ctx, args, cancellation_manager\u001b[39m=\u001b[39;49mcancellation_manager))\n\u001b[0;32m   1864\u001b[0m forward_backward \u001b[39m=\u001b[39m \u001b[39mself\u001b[39m\u001b[39m.\u001b[39m_select_forward_and_backward_functions(\n\u001b[0;32m   1865\u001b[0m     args,\n\u001b[0;32m   1866\u001b[0m     possible_gradient_type,\n\u001b[0;32m   1867\u001b[0m     executing_eagerly)\n\u001b[0;32m   1868\u001b[0m forward_function, args_with_tangents \u001b[39m=\u001b[39m forward_backward\u001b[39m.\u001b[39mforward()\n",
      "File \u001b[1;32mc:\\Users\\troosma\\Documents\\Ylikool\\6. semester\\Bakatöö\\bakatoo\\env\\lib\\site-packages\\tensorflow\\python\\eager\\function.py:499\u001b[0m, in \u001b[0;36m_EagerDefinedFunction.call\u001b[1;34m(self, ctx, args, cancellation_manager)\u001b[0m\n\u001b[0;32m    497\u001b[0m \u001b[39mwith\u001b[39;00m _InterpolateFunctionError(\u001b[39mself\u001b[39m):\n\u001b[0;32m    498\u001b[0m   \u001b[39mif\u001b[39;00m cancellation_manager \u001b[39mis\u001b[39;00m \u001b[39mNone\u001b[39;00m:\n\u001b[1;32m--> 499\u001b[0m     outputs \u001b[39m=\u001b[39m execute\u001b[39m.\u001b[39;49mexecute(\n\u001b[0;32m    500\u001b[0m         \u001b[39mstr\u001b[39;49m(\u001b[39mself\u001b[39;49m\u001b[39m.\u001b[39;49msignature\u001b[39m.\u001b[39;49mname),\n\u001b[0;32m    501\u001b[0m         num_outputs\u001b[39m=\u001b[39;49m\u001b[39mself\u001b[39;49m\u001b[39m.\u001b[39;49m_num_outputs,\n\u001b[0;32m    502\u001b[0m         inputs\u001b[39m=\u001b[39;49margs,\n\u001b[0;32m    503\u001b[0m         attrs\u001b[39m=\u001b[39;49mattrs,\n\u001b[0;32m    504\u001b[0m         ctx\u001b[39m=\u001b[39;49mctx)\n\u001b[0;32m    505\u001b[0m   \u001b[39melse\u001b[39;00m:\n\u001b[0;32m    506\u001b[0m     outputs \u001b[39m=\u001b[39m execute\u001b[39m.\u001b[39mexecute_with_cancellation(\n\u001b[0;32m    507\u001b[0m         \u001b[39mstr\u001b[39m(\u001b[39mself\u001b[39m\u001b[39m.\u001b[39msignature\u001b[39m.\u001b[39mname),\n\u001b[0;32m    508\u001b[0m         num_outputs\u001b[39m=\u001b[39m\u001b[39mself\u001b[39m\u001b[39m.\u001b[39m_num_outputs,\n\u001b[1;32m   (...)\u001b[0m\n\u001b[0;32m    511\u001b[0m         ctx\u001b[39m=\u001b[39mctx,\n\u001b[0;32m    512\u001b[0m         cancellation_manager\u001b[39m=\u001b[39mcancellation_manager)\n",
      "File \u001b[1;32mc:\\Users\\troosma\\Documents\\Ylikool\\6. semester\\Bakatöö\\bakatoo\\env\\lib\\site-packages\\tensorflow\\python\\eager\\execute.py:54\u001b[0m, in \u001b[0;36mquick_execute\u001b[1;34m(op_name, num_outputs, inputs, attrs, ctx, name)\u001b[0m\n\u001b[0;32m     52\u001b[0m \u001b[39mtry\u001b[39;00m:\n\u001b[0;32m     53\u001b[0m   ctx\u001b[39m.\u001b[39mensure_initialized()\n\u001b[1;32m---> 54\u001b[0m   tensors \u001b[39m=\u001b[39m pywrap_tfe\u001b[39m.\u001b[39;49mTFE_Py_Execute(ctx\u001b[39m.\u001b[39;49m_handle, device_name, op_name,\n\u001b[0;32m     55\u001b[0m                                       inputs, attrs, num_outputs)\n\u001b[0;32m     56\u001b[0m \u001b[39mexcept\u001b[39;00m core\u001b[39m.\u001b[39m_NotOkStatusException \u001b[39mas\u001b[39;00m e:\n\u001b[0;32m     57\u001b[0m   \u001b[39mif\u001b[39;00m name \u001b[39mis\u001b[39;00m \u001b[39mnot\u001b[39;00m \u001b[39mNone\u001b[39;00m:\n",
      "\u001b[1;31mKeyboardInterrupt\u001b[0m: "
     ]
    }
   ],
   "source": [
    "model.fit(X, y, batch_size=8, epochs=3000, verbose=0,\n",
    "                callbacks=[CustomLogger(100)])\n",
    "\n",
    "\n",
    "plot_mean_and_variance(model, X_valid)"
   ]
  },
  {
   "cell_type": "code",
   "execution_count": 30,
   "metadata": {},
   "outputs": [
    {
     "name": "stdout",
     "output_type": "stream",
     "text": [
      "313/313 [==============================] - 3s 10ms/step\n"
     ]
    },
    {
     "data": {
      "image/png": "[encoded data removed]",
      "text/plain": [
       "<Figure size 640x480 with 1 Axes>"
      ]
     },
     "metadata": {},
     "output_type": "display_data"
    }
   ],
   "source": [
    "plot_mean_and_variance(model, X_valid)"
   ]
  },
  {
   "cell_type": "code",
   "execution_count": 28,
   "metadata": {},
   "outputs": [
    {
     "name": "stdout",
     "output_type": "stream",
     "text": [
      "313/313 [==============================] - 3s 10ms/step\n"
     ]
    },
    {
     "data": {
      "text/plain": [
       "<tf.Tensor: shape=(10000,), dtype=float32, numpy=\n",
       "array([0.9997052 , 0.99970526, 0.9997053 , ..., 0.99975175, 0.9997517 ,\n",
       "       0.9997516 ], dtype=float32)>"
      ]
     },
     "execution_count": 28,
     "metadata": {},
     "output_type": "execute_result"
    }
   ],
   "source": [
    "tulem = model.predict(X_valid)\n",
    "tulem = tulem[:,1]\n",
    "tf.math.exp(tulem)"
   ]
  },
  {
   "cell_type": "code",
   "execution_count": 31,
   "metadata": {},
   "outputs": [
    {
     "data": {
      "text/plain": [
       "[<tf.Variable 'layer_1/kernel:0' shape=(1, 4) dtype=float32, numpy=\n",
       " array([[-1.3256693 , -0.24178754,  0.23584881,  0.9852123 ]],\n",
       "       dtype=float32)>,\n",
       " <tf.Variable 'layer_1/bias:0' shape=(4,) dtype=float32, numpy=array([-0.4326882 , -0.29877225, -0.1903515 , -0.36683872], dtype=float32)>,\n",
       " <tf.Variable 'layer_2/kernel:0' shape=(4, 4) dtype=float32, numpy=\n",
       " array([[-0.7722343 , -0.6773776 ,  0.5850079 , -0.10424754],\n",
       "        [ 0.70995826, -0.7000709 , -0.43372017,  0.49989814],\n",
       "        [-0.5596562 , -0.48498845,  0.02514817, -0.7692326 ],\n",
       "        [ 0.13720338,  0.23631257,  0.64477044,  0.1915087 ]],\n",
       "       dtype=float32)>,\n",
       " <tf.Variable 'layer_2/bias:0' shape=(4,) dtype=float32, numpy=array([-0.09554075, -0.15716313, -0.06688983, -0.097479  ], dtype=float32)>,\n",
       " <tf.Variable 'layer_3/kernel:0' shape=(4, 2) dtype=float32, numpy=\n",
       " array([[ 0.00405148,  0.30779937],\n",
       "        [ 0.07046216,  0.2764293 ],\n",
       "        [ 0.30756664, -0.0003791 ],\n",
       "        [-0.00224063, -0.1412686 ]], dtype=float32)>,\n",
       " <tf.Variable 'layer_3/bias:0' shape=(2,) dtype=float32, numpy=array([ 3.2518286e-01, -1.2218161e-04], dtype=float32)>]"
      ]
     },
     "execution_count": 31,
     "metadata": {},
     "output_type": "execute_result"
    }
   ],
   "source": [
    "model.weights"
   ]
  },
  {
   "cell_type": "code",
   "execution_count": 10,
   "metadata": {},
   "outputs": [
    {
     "name": "stdout",
     "output_type": "stream",
     "text": [
      "Epoch:   0 | Loss: 4.25340e+13\n",
      "Epoch: 100 | Loss: -2.39375e-01\n",
      "Epoch: 200 | Loss: -6.47994e-01\n",
      "Epoch: 300 | Loss: -4.24506e-01\n",
      "Epoch: 400 | Loss: -6.23721e-01\n",
      "Epoch: 500 | Loss: -6.46440e-01\n",
      "Epoch: 600 | Loss: -6.27419e-01\n",
      "Epoch: 700 | Loss: -6.61512e-01\n",
      "Epoch: 800 | Loss: -6.63836e-01\n",
      "Epoch: 900 | Loss: -4.96185e-01\n",
      "Epoch: 1000 | Loss: -6.47482e-01\n",
      "Epoch: 1100 | Loss: -6.44895e-01\n",
      "Epoch: 1200 | Loss: -6.79664e-01\n",
      "Epoch: 1300 | Loss: -6.39497e-01\n",
      "Epoch: 1400 | Loss: 1.82786e-01\n",
      "Epoch: 1500 | Loss: -6.19546e-01\n",
      "Epoch: 1600 | Loss: -6.51817e-01\n",
      "Epoch: 1700 | Loss: -6.03347e-01\n",
      "Epoch: 1800 | Loss: -6.51039e-01\n",
      "Epoch: 1900 | Loss: -6.27810e-01\n",
      "313/313 [==============================] - 1s 1ms/step\n"
     ]
    },
    {
     "data": {
      "image/png": "[encoded data removed]",
      "text/plain": [
       "<Figure size 640x480 with 1 Axes>"
      ]
     },
     "metadata": {},
     "output_type": "display_data"
    }
   ],
   "source": [
    "utils.reset_seeds(2002)\n",
    "\n",
    "model = keras.Sequential([\n",
    "    layers.Input(shape=(1,)),\n",
    "    layers.Dense(units=100, activation='relu', name=\"layer_1\"),\n",
    "    layers.Dense(units=100, activation='relu', name=\"layer_2\"),\n",
    "    layers.Dense(units=2, activation='linear', name=\"layer_3\"),\n",
    "])\n",
    "\n",
    "train_model(model)\n",
    "\n",
    "plot_mean_and_variance(model, X_valid)"
   ]
  },
  {
   "cell_type": "code",
   "execution_count": 11,
   "metadata": {},
   "outputs": [
    {
     "name": "stdout",
     "output_type": "stream",
     "text": [
      "Epoch:   0 | Loss: 1.79600e+13\n",
      "Epoch: 100 | Loss: -3.70753e-01\n",
      "Epoch: 200 | Loss: -5.92256e-01\n",
      "Epoch: 300 | Loss: -5.68486e-01\n",
      "Epoch: 400 | Loss: -6.34432e-01\n",
      "Epoch: 500 | Loss: -6.57425e-01\n",
      "Epoch: 600 | Loss: -4.94871e-01\n",
      "Epoch: 700 | Loss: -6.53702e-01\n",
      "Epoch: 800 | Loss: -6.79374e-01\n",
      "Epoch: 900 | Loss: -5.57508e-01\n",
      "Epoch: 1000 | Loss: -6.44252e-01\n",
      "Epoch: 1100 | Loss: -6.65086e-01\n",
      "Epoch: 1200 | Loss: -6.91981e-01\n",
      "Epoch: 1300 | Loss: -6.57668e-01\n",
      "Epoch: 1400 | Loss: -6.48613e-01\n",
      "Epoch: 1500 | Loss: -6.53548e-01\n",
      "Epoch: 1600 | Loss: -6.43385e-01\n",
      "Epoch: 1700 | Loss: -6.95130e-01\n",
      "Epoch: 1800 | Loss: -6.54558e-01\n",
      "Epoch: 1900 | Loss: -6.66275e-01\n",
      "313/313 [==============================] - 1s 1ms/step\n"
     ]
    },
    {
     "data": {
      "image/png": "[encoded data removed]",
      "text/plain": [
       "<Figure size 640x480 with 1 Axes>"
      ]
     },
     "metadata": {},
     "output_type": "display_data"
    }
   ],
   "source": [
    "utils.reset_seeds(2002)\n",
    "\n",
    "model = keras.Sequential([\n",
    "    layers.Input(shape=(1,)),\n",
    "    layers.Dense(units=50, activation='relu', name=\"layer_1\"),\n",
    "    layers.Dense(units=50, activation='relu', name=\"layer_2\"),\n",
    "    layers.Dense(units=50, activation='relu', name=\"layer_2b\"),\n",
    "    layers.Dense(units=50, activation='relu', name=\"layer_2c\"),\n",
    "    layers.Dense(units=2, activation='linear', name=\"layer_3\"),\n",
    "])\n",
    "\n",
    "train_model(model)\n",
    "\n",
    "plot_mean_and_variance(model, X_valid)"
   ]
  },
  {
   "cell_type": "code",
   "execution_count": null,
   "metadata": {},
   "outputs": [],
   "source": []
  },
  {
   "cell_type": "markdown",
   "metadata": {},
   "source": [
    "## Teeme overkill mudeli ja vaatame kas ta üldse oskaks ära õppida"
   ]
  },
  {
   "cell_type": "code",
   "execution_count": 12,
   "metadata": {},
   "outputs": [
    {
     "name": "stderr",
     "output_type": "stream",
     "text": [
      "c:\\Users\\troosma\\Documents\\Ylikool\\6. semester\\Bakatöö\\bakatoo\\env\\lib\\site-packages\\sklearn\\model_selection\\_search.py:953: UserWarning: One or more of the test scores are non-finite: [nan nan nan nan nan nan nan nan nan nan nan nan nan nan nan nan nan nan\n",
      " nan nan nan nan nan nan nan nan nan nan nan nan nan nan nan nan nan nan\n",
      " nan nan nan nan nan nan nan nan nan nan nan nan nan nan nan nan nan nan\n",
      " nan nan nan nan nan nan nan nan nan nan nan nan nan nan nan nan nan nan\n",
      " nan nan nan nan nan nan nan nan nan nan nan nan nan nan nan nan nan nan\n",
      " nan nan nan nan nan nan nan nan nan nan nan nan nan nan nan nan nan nan\n",
      " nan nan nan nan nan nan nan nan nan nan nan nan]\n",
      "  warnings.warn(\n"
     ]
    }
   ],
   "source": [
    "from scikeras.wrappers import KerasRegressor\n",
    "from sklearn.model_selection import GridSearchCV\n",
    "\n",
    "\n",
    "utils.reset_seeds(2002)\n",
    "\n",
    "def create_model():\n",
    "    return keras.Sequential([\n",
    "    layers.Input(shape=(1,)),\n",
    "    layers.Dense(units=50, activation='sigmoid', name=\"layer_1\"),\n",
    "    layers.Dense(units=50, activation='sigmoid', name=\"layer_2\"),\n",
    "    layers.Dense(units=2, activation='sigmoid', name=\"layer_3\"),\n",
    "])\n",
    "\n",
    "\n",
    "X = np.linspace(-1, 1, 50)\n",
    "y = X**2 + np.random.normal(0, 0.02, 50)\n",
    "X_train, y_train = X, y\n",
    "\n",
    "batch_size = [8, 16, 32]\n",
    "learn_rate = [0.0001, 0.001, 0.01, 0.1]\n",
    "epsilon = [1, 0.1, 0.01, 0.0001, 0.00001]  # see Adami epsilon \n",
    "amsgard = [True, False]\n",
    "\n",
    "param_grid = dict(batch_size=batch_size, \n",
    "    optimizer__learning_rate=learn_rate,\n",
    "    optimizer__amsgrad=amsgard,\n",
    "    optimizer__epsilon=epsilon)\n",
    "\n",
    "model = KerasRegressor(model=create_model, loss=neg_log_likelihood, optimizer=\"Adam\", epochs=10, verbose=0)\n",
    "\n",
    "grid = GridSearchCV(estimator=model, param_grid=param_grid, n_jobs=6, cv=3, scoring='neg_mean_squared_error')\n",
    "\n",
    "grid_result = grid.fit(X_train.reshape(-1, 1), y_train)"
   ]
  },
  {
   "cell_type": "code",
   "execution_count": 13,
   "metadata": {},
   "outputs": [
    {
     "name": "stdout",
     "output_type": "stream",
     "text": [
      "nan (nan) with: {'batch_size': 8, 'optimizer__amsgrad': True, 'optimizer__epsilon': 1, 'optimizer__learning_rate': 0.0001}\n",
      "nan (nan) with: {'batch_size': 8, 'optimizer__amsgrad': True, 'optimizer__epsilon': 1, 'optimizer__learning_rate': 0.001}\n",
      "nan (nan) with: {'batch_size': 8, 'optimizer__amsgrad': True, 'optimizer__epsilon': 1, 'optimizer__learning_rate': 0.01}\n",
      "nan (nan) with: {'batch_size': 8, 'optimizer__amsgrad': True, 'optimizer__epsilon': 1, 'optimizer__learning_rate': 0.1}\n",
      "nan (nan) with: {'batch_size': 8, 'optimizer__amsgrad': True, 'optimizer__epsilon': 0.1, 'optimizer__learning_rate': 0.0001}\n",
      "nan (nan) with: {'batch_size': 8, 'optimizer__amsgrad': True, 'optimizer__epsilon': 0.1, 'optimizer__learning_rate': 0.001}\n",
      "nan (nan) with: {'batch_size': 8, 'optimizer__amsgrad': True, 'optimizer__epsilon': 0.1, 'optimizer__learning_rate': 0.01}\n",
      "nan (nan) with: {'batch_size': 8, 'optimizer__amsgrad': True, 'optimizer__epsilon': 0.1, 'optimizer__learning_rate': 0.1}\n",
      "nan (nan) with: {'batch_size': 8, 'optimizer__amsgrad': True, 'optimizer__epsilon': 0.01, 'optimizer__learning_rate': 0.0001}\n",
      "nan (nan) with: {'batch_size': 8, 'optimizer__amsgrad': True, 'optimizer__epsilon': 0.01, 'optimizer__learning_rate': 0.001}\n",
      "nan (nan) with: {'batch_size': 8, 'optimizer__amsgrad': True, 'optimizer__epsilon': 0.01, 'optimizer__learning_rate': 0.01}\n",
      "nan (nan) with: {'batch_size': 8, 'optimizer__amsgrad': True, 'optimizer__epsilon': 0.01, 'optimizer__learning_rate': 0.1}\n",
      "nan (nan) with: {'batch_size': 8, 'optimizer__amsgrad': True, 'optimizer__epsilon': 0.0001, 'optimizer__learning_rate': 0.0001}\n",
      "nan (nan) with: {'batch_size': 8, 'optimizer__amsgrad': True, 'optimizer__epsilon': 0.0001, 'optimizer__learning_rate': 0.001}\n",
      "nan (nan) with: {'batch_size': 8, 'optimizer__amsgrad': True, 'optimizer__epsilon': 0.0001, 'optimizer__learning_rate': 0.01}\n",
      "nan (nan) with: {'batch_size': 8, 'optimizer__amsgrad': True, 'optimizer__epsilon': 0.0001, 'optimizer__learning_rate': 0.1}\n",
      "nan (nan) with: {'batch_size': 8, 'optimizer__amsgrad': True, 'optimizer__epsilon': 1e-05, 'optimizer__learning_rate': 0.0001}\n",
      "nan (nan) with: {'batch_size': 8, 'optimizer__amsgrad': True, 'optimizer__epsilon': 1e-05, 'optimizer__learning_rate': 0.001}\n",
      "nan (nan) with: {'batch_size': 8, 'optimizer__amsgrad': True, 'optimizer__epsilon': 1e-05, 'optimizer__learning_rate': 0.01}\n",
      "nan (nan) with: {'batch_size': 8, 'optimizer__amsgrad': True, 'optimizer__epsilon': 1e-05, 'optimizer__learning_rate': 0.1}\n",
      "nan (nan) with: {'batch_size': 8, 'optimizer__amsgrad': False, 'optimizer__epsilon': 1, 'optimizer__learning_rate': 0.0001}\n",
      "nan (nan) with: {'batch_size': 8, 'optimizer__amsgrad': False, 'optimizer__epsilon': 1, 'optimizer__learning_rate': 0.001}\n",
      "nan (nan) with: {'batch_size': 8, 'optimizer__amsgrad': False, 'optimizer__epsilon': 1, 'optimizer__learning_rate': 0.01}\n",
      "nan (nan) with: {'batch_size': 8, 'optimizer__amsgrad': False, 'optimizer__epsilon': 1, 'optimizer__learning_rate': 0.1}\n",
      "nan (nan) with: {'batch_size': 8, 'optimizer__amsgrad': False, 'optimizer__epsilon': 0.1, 'optimizer__learning_rate': 0.0001}\n",
      "nan (nan) with: {'batch_size': 8, 'optimizer__amsgrad': False, 'optimizer__epsilon': 0.1, 'optimizer__learning_rate': 0.001}\n",
      "nan (nan) with: {'batch_size': 8, 'optimizer__amsgrad': False, 'optimizer__epsilon': 0.1, 'optimizer__learning_rate': 0.01}\n",
      "nan (nan) with: {'batch_size': 8, 'optimizer__amsgrad': False, 'optimizer__epsilon': 0.1, 'optimizer__learning_rate': 0.1}\n",
      "nan (nan) with: {'batch_size': 8, 'optimizer__amsgrad': False, 'optimizer__epsilon': 0.01, 'optimizer__learning_rate': 0.0001}\n",
      "nan (nan) with: {'batch_size': 8, 'optimizer__amsgrad': False, 'optimizer__epsilon': 0.01, 'optimizer__learning_rate': 0.001}\n",
      "nan (nan) with: {'batch_size': 8, 'optimizer__amsgrad': False, 'optimizer__epsilon': 0.01, 'optimizer__learning_rate': 0.01}\n",
      "nan (nan) with: {'batch_size': 8, 'optimizer__amsgrad': False, 'optimizer__epsilon': 0.01, 'optimizer__learning_rate': 0.1}\n",
      "nan (nan) with: {'batch_size': 8, 'optimizer__amsgrad': False, 'optimizer__epsilon': 0.0001, 'optimizer__learning_rate': 0.0001}\n",
      "nan (nan) with: {'batch_size': 8, 'optimizer__amsgrad': False, 'optimizer__epsilon': 0.0001, 'optimizer__learning_rate': 0.001}\n",
      "nan (nan) with: {'batch_size': 8, 'optimizer__amsgrad': False, 'optimizer__epsilon': 0.0001, 'optimizer__learning_rate': 0.01}\n",
      "nan (nan) with: {'batch_size': 8, 'optimizer__amsgrad': False, 'optimizer__epsilon': 0.0001, 'optimizer__learning_rate': 0.1}\n",
      "nan (nan) with: {'batch_size': 8, 'optimizer__amsgrad': False, 'optimizer__epsilon': 1e-05, 'optimizer__learning_rate': 0.0001}\n",
      "nan (nan) with: {'batch_size': 8, 'optimizer__amsgrad': False, 'optimizer__epsilon': 1e-05, 'optimizer__learning_rate': 0.001}\n",
      "nan (nan) with: {'batch_size': 8, 'optimizer__amsgrad': False, 'optimizer__epsilon': 1e-05, 'optimizer__learning_rate': 0.01}\n",
      "nan (nan) with: {'batch_size': 8, 'optimizer__amsgrad': False, 'optimizer__epsilon': 1e-05, 'optimizer__learning_rate': 0.1}\n",
      "nan (nan) with: {'batch_size': 16, 'optimizer__amsgrad': True, 'optimizer__epsilon': 1, 'optimizer__learning_rate': 0.0001}\n",
      "nan (nan) with: {'batch_size': 16, 'optimizer__amsgrad': True, 'optimizer__epsilon': 1, 'optimizer__learning_rate': 0.001}\n",
      "nan (nan) with: {'batch_size': 16, 'optimizer__amsgrad': True, 'optimizer__epsilon': 1, 'optimizer__learning_rate': 0.01}\n",
      "nan (nan) with: {'batch_size': 16, 'optimizer__amsgrad': True, 'optimizer__epsilon': 1, 'optimizer__learning_rate': 0.1}\n",
      "nan (nan) with: {'batch_size': 16, 'optimizer__amsgrad': True, 'optimizer__epsilon': 0.1, 'optimizer__learning_rate': 0.0001}\n",
      "nan (nan) with: {'batch_size': 16, 'optimizer__amsgrad': True, 'optimizer__epsilon': 0.1, 'optimizer__learning_rate': 0.001}\n",
      "nan (nan) with: {'batch_size': 16, 'optimizer__amsgrad': True, 'optimizer__epsilon': 0.1, 'optimizer__learning_rate': 0.01}\n",
      "nan (nan) with: {'batch_size': 16, 'optimizer__amsgrad': True, 'optimizer__epsilon': 0.1, 'optimizer__learning_rate': 0.1}\n",
      "nan (nan) with: {'batch_size': 16, 'optimizer__amsgrad': True, 'optimizer__epsilon': 0.01, 'optimizer__learning_rate': 0.0001}\n",
      "nan (nan) with: {'batch_size': 16, 'optimizer__amsgrad': True, 'optimizer__epsilon': 0.01, 'optimizer__learning_rate': 0.001}\n",
      "nan (nan) with: {'batch_size': 16, 'optimizer__amsgrad': True, 'optimizer__epsilon': 0.01, 'optimizer__learning_rate': 0.01}\n",
      "nan (nan) with: {'batch_size': 16, 'optimizer__amsgrad': True, 'optimizer__epsilon': 0.01, 'optimizer__learning_rate': 0.1}\n",
      "nan (nan) with: {'batch_size': 16, 'optimizer__amsgrad': True, 'optimizer__epsilon': 0.0001, 'optimizer__learning_rate': 0.0001}\n",
      "nan (nan) with: {'batch_size': 16, 'optimizer__amsgrad': True, 'optimizer__epsilon': 0.0001, 'optimizer__learning_rate': 0.001}\n",
      "nan (nan) with: {'batch_size': 16, 'optimizer__amsgrad': True, 'optimizer__epsilon': 0.0001, 'optimizer__learning_rate': 0.01}\n",
      "nan (nan) with: {'batch_size': 16, 'optimizer__amsgrad': True, 'optimizer__epsilon': 0.0001, 'optimizer__learning_rate': 0.1}\n",
      "nan (nan) with: {'batch_size': 16, 'optimizer__amsgrad': True, 'optimizer__epsilon': 1e-05, 'optimizer__learning_rate': 0.0001}\n",
      "nan (nan) with: {'batch_size': 16, 'optimizer__amsgrad': True, 'optimizer__epsilon': 1e-05, 'optimizer__learning_rate': 0.001}\n",
      "nan (nan) with: {'batch_size': 16, 'optimizer__amsgrad': True, 'optimizer__epsilon': 1e-05, 'optimizer__learning_rate': 0.01}\n",
      "nan (nan) with: {'batch_size': 16, 'optimizer__amsgrad': True, 'optimizer__epsilon': 1e-05, 'optimizer__learning_rate': 0.1}\n",
      "nan (nan) with: {'batch_size': 16, 'optimizer__amsgrad': False, 'optimizer__epsilon': 1, 'optimizer__learning_rate': 0.0001}\n",
      "nan (nan) with: {'batch_size': 16, 'optimizer__amsgrad': False, 'optimizer__epsilon': 1, 'optimizer__learning_rate': 0.001}\n",
      "nan (nan) with: {'batch_size': 16, 'optimizer__amsgrad': False, 'optimizer__epsilon': 1, 'optimizer__learning_rate': 0.01}\n",
      "nan (nan) with: {'batch_size': 16, 'optimizer__amsgrad': False, 'optimizer__epsilon': 1, 'optimizer__learning_rate': 0.1}\n",
      "nan (nan) with: {'batch_size': 16, 'optimizer__amsgrad': False, 'optimizer__epsilon': 0.1, 'optimizer__learning_rate': 0.0001}\n",
      "nan (nan) with: {'batch_size': 16, 'optimizer__amsgrad': False, 'optimizer__epsilon': 0.1, 'optimizer__learning_rate': 0.001}\n",
      "nan (nan) with: {'batch_size': 16, 'optimizer__amsgrad': False, 'optimizer__epsilon': 0.1, 'optimizer__learning_rate': 0.01}\n",
      "nan (nan) with: {'batch_size': 16, 'optimizer__amsgrad': False, 'optimizer__epsilon': 0.1, 'optimizer__learning_rate': 0.1}\n",
      "nan (nan) with: {'batch_size': 16, 'optimizer__amsgrad': False, 'optimizer__epsilon': 0.01, 'optimizer__learning_rate': 0.0001}\n",
      "nan (nan) with: {'batch_size': 16, 'optimizer__amsgrad': False, 'optimizer__epsilon': 0.01, 'optimizer__learning_rate': 0.001}\n",
      "nan (nan) with: {'batch_size': 16, 'optimizer__amsgrad': False, 'optimizer__epsilon': 0.01, 'optimizer__learning_rate': 0.01}\n",
      "nan (nan) with: {'batch_size': 16, 'optimizer__amsgrad': False, 'optimizer__epsilon': 0.01, 'optimizer__learning_rate': 0.1}\n",
      "nan (nan) with: {'batch_size': 16, 'optimizer__amsgrad': False, 'optimizer__epsilon': 0.0001, 'optimizer__learning_rate': 0.0001}\n",
      "nan (nan) with: {'batch_size': 16, 'optimizer__amsgrad': False, 'optimizer__epsilon': 0.0001, 'optimizer__learning_rate': 0.001}\n",
      "nan (nan) with: {'batch_size': 16, 'optimizer__amsgrad': False, 'optimizer__epsilon': 0.0001, 'optimizer__learning_rate': 0.01}\n",
      "nan (nan) with: {'batch_size': 16, 'optimizer__amsgrad': False, 'optimizer__epsilon': 0.0001, 'optimizer__learning_rate': 0.1}\n",
      "nan (nan) with: {'batch_size': 16, 'optimizer__amsgrad': False, 'optimizer__epsilon': 1e-05, 'optimizer__learning_rate': 0.0001}\n",
      "nan (nan) with: {'batch_size': 16, 'optimizer__amsgrad': False, 'optimizer__epsilon': 1e-05, 'optimizer__learning_rate': 0.001}\n",
      "nan (nan) with: {'batch_size': 16, 'optimizer__amsgrad': False, 'optimizer__epsilon': 1e-05, 'optimizer__learning_rate': 0.01}\n",
      "nan (nan) with: {'batch_size': 16, 'optimizer__amsgrad': False, 'optimizer__epsilon': 1e-05, 'optimizer__learning_rate': 0.1}\n",
      "nan (nan) with: {'batch_size': 32, 'optimizer__amsgrad': True, 'optimizer__epsilon': 1, 'optimizer__learning_rate': 0.0001}\n",
      "nan (nan) with: {'batch_size': 32, 'optimizer__amsgrad': True, 'optimizer__epsilon': 1, 'optimizer__learning_rate': 0.001}\n",
      "nan (nan) with: {'batch_size': 32, 'optimizer__amsgrad': True, 'optimizer__epsilon': 1, 'optimizer__learning_rate': 0.01}\n",
      "nan (nan) with: {'batch_size': 32, 'optimizer__amsgrad': True, 'optimizer__epsilon': 1, 'optimizer__learning_rate': 0.1}\n",
      "nan (nan) with: {'batch_size': 32, 'optimizer__amsgrad': True, 'optimizer__epsilon': 0.1, 'optimizer__learning_rate': 0.0001}\n",
      "nan (nan) with: {'batch_size': 32, 'optimizer__amsgrad': True, 'optimizer__epsilon': 0.1, 'optimizer__learning_rate': 0.001}\n",
      "nan (nan) with: {'batch_size': 32, 'optimizer__amsgrad': True, 'optimizer__epsilon': 0.1, 'optimizer__learning_rate': 0.01}\n",
      "nan (nan) with: {'batch_size': 32, 'optimizer__amsgrad': True, 'optimizer__epsilon': 0.1, 'optimizer__learning_rate': 0.1}\n",
      "nan (nan) with: {'batch_size': 32, 'optimizer__amsgrad': True, 'optimizer__epsilon': 0.01, 'optimizer__learning_rate': 0.0001}\n",
      "nan (nan) with: {'batch_size': 32, 'optimizer__amsgrad': True, 'optimizer__epsilon': 0.01, 'optimizer__learning_rate': 0.001}\n",
      "nan (nan) with: {'batch_size': 32, 'optimizer__amsgrad': True, 'optimizer__epsilon': 0.01, 'optimizer__learning_rate': 0.01}\n",
      "nan (nan) with: {'batch_size': 32, 'optimizer__amsgrad': True, 'optimizer__epsilon': 0.01, 'optimizer__learning_rate': 0.1}\n",
      "nan (nan) with: {'batch_size': 32, 'optimizer__amsgrad': True, 'optimizer__epsilon': 0.0001, 'optimizer__learning_rate': 0.0001}\n",
      "nan (nan) with: {'batch_size': 32, 'optimizer__amsgrad': True, 'optimizer__epsilon': 0.0001, 'optimizer__learning_rate': 0.001}\n",
      "nan (nan) with: {'batch_size': 32, 'optimizer__amsgrad': True, 'optimizer__epsilon': 0.0001, 'optimizer__learning_rate': 0.01}\n",
      "nan (nan) with: {'batch_size': 32, 'optimizer__amsgrad': True, 'optimizer__epsilon': 0.0001, 'optimizer__learning_rate': 0.1}\n",
      "nan (nan) with: {'batch_size': 32, 'optimizer__amsgrad': True, 'optimizer__epsilon': 1e-05, 'optimizer__learning_rate': 0.0001}\n",
      "nan (nan) with: {'batch_size': 32, 'optimizer__amsgrad': True, 'optimizer__epsilon': 1e-05, 'optimizer__learning_rate': 0.001}\n",
      "nan (nan) with: {'batch_size': 32, 'optimizer__amsgrad': True, 'optimizer__epsilon': 1e-05, 'optimizer__learning_rate': 0.01}\n",
      "nan (nan) with: {'batch_size': 32, 'optimizer__amsgrad': True, 'optimizer__epsilon': 1e-05, 'optimizer__learning_rate': 0.1}\n",
      "nan (nan) with: {'batch_size': 32, 'optimizer__amsgrad': False, 'optimizer__epsilon': 1, 'optimizer__learning_rate': 0.0001}\n",
      "nan (nan) with: {'batch_size': 32, 'optimizer__amsgrad': False, 'optimizer__epsilon': 1, 'optimizer__learning_rate': 0.001}\n",
      "nan (nan) with: {'batch_size': 32, 'optimizer__amsgrad': False, 'optimizer__epsilon': 1, 'optimizer__learning_rate': 0.01}\n",
      "nan (nan) with: {'batch_size': 32, 'optimizer__amsgrad': False, 'optimizer__epsilon': 1, 'optimizer__learning_rate': 0.1}\n",
      "nan (nan) with: {'batch_size': 32, 'optimizer__amsgrad': False, 'optimizer__epsilon': 0.1, 'optimizer__learning_rate': 0.0001}\n",
      "nan (nan) with: {'batch_size': 32, 'optimizer__amsgrad': False, 'optimizer__epsilon': 0.1, 'optimizer__learning_rate': 0.001}\n",
      "nan (nan) with: {'batch_size': 32, 'optimizer__amsgrad': False, 'optimizer__epsilon': 0.1, 'optimizer__learning_rate': 0.01}\n",
      "nan (nan) with: {'batch_size': 32, 'optimizer__amsgrad': False, 'optimizer__epsilon': 0.1, 'optimizer__learning_rate': 0.1}\n",
      "nan (nan) with: {'batch_size': 32, 'optimizer__amsgrad': False, 'optimizer__epsilon': 0.01, 'optimizer__learning_rate': 0.0001}\n",
      "nan (nan) with: {'batch_size': 32, 'optimizer__amsgrad': False, 'optimizer__epsilon': 0.01, 'optimizer__learning_rate': 0.001}\n",
      "nan (nan) with: {'batch_size': 32, 'optimizer__amsgrad': False, 'optimizer__epsilon': 0.01, 'optimizer__learning_rate': 0.01}\n",
      "nan (nan) with: {'batch_size': 32, 'optimizer__amsgrad': False, 'optimizer__epsilon': 0.01, 'optimizer__learning_rate': 0.1}\n",
      "nan (nan) with: {'batch_size': 32, 'optimizer__amsgrad': False, 'optimizer__epsilon': 0.0001, 'optimizer__learning_rate': 0.0001}\n",
      "nan (nan) with: {'batch_size': 32, 'optimizer__amsgrad': False, 'optimizer__epsilon': 0.0001, 'optimizer__learning_rate': 0.001}\n",
      "nan (nan) with: {'batch_size': 32, 'optimizer__amsgrad': False, 'optimizer__epsilon': 0.0001, 'optimizer__learning_rate': 0.01}\n",
      "nan (nan) with: {'batch_size': 32, 'optimizer__amsgrad': False, 'optimizer__epsilon': 0.0001, 'optimizer__learning_rate': 0.1}\n",
      "nan (nan) with: {'batch_size': 32, 'optimizer__amsgrad': False, 'optimizer__epsilon': 1e-05, 'optimizer__learning_rate': 0.0001}\n",
      "nan (nan) with: {'batch_size': 32, 'optimizer__amsgrad': False, 'optimizer__epsilon': 1e-05, 'optimizer__learning_rate': 0.001}\n",
      "nan (nan) with: {'batch_size': 32, 'optimizer__amsgrad': False, 'optimizer__epsilon': 1e-05, 'optimizer__learning_rate': 0.01}\n",
      "nan (nan) with: {'batch_size': 32, 'optimizer__amsgrad': False, 'optimizer__epsilon': 1e-05, 'optimizer__learning_rate': 0.1}\n"
     ]
    }
   ],
   "source": [
    "means = grid_result.cv_results_['mean_test_score']\n",
    "stds = grid_result.cv_results_['std_test_score']\n",
    "params = grid_result.cv_results_['params']\n",
    "for mean, stdev, param in zip(means, stds, params):\n",
    "    print(\"%f (%f) with: %r\" % (mean, stdev, param)),"
   ]
  },
  {
   "cell_type": "code",
   "execution_count": 14,
   "metadata": {},
   "outputs": [
    {
     "data": {
      "text/plain": [
       "{'batch_size': 8,\n",
       " 'optimizer__amsgrad': True,\n",
       " 'optimizer__epsilon': 1,\n",
       " 'optimizer__learning_rate': 0.0001}"
      ]
     },
     "execution_count": 14,
     "metadata": {},
     "output_type": "execute_result"
    }
   ],
   "source": [
    "grid.best_params_"
   ]
  }
 ],
 "metadata": {
  "kernelspec": {
   "display_name": "env",
   "language": "python",
   "name": "python3"
  },
  "language_info": {
   "codemirror_mode": {
    "name": "ipython",
    "version": 3
   },
   "file_extension": ".py",
   "mimetype": "text/x-python",
   "name": "python",
   "nbconvert_exporter": "python",
   "pygments_lexer": "ipython3",
   "version": "3.9.1 (tags/v3.9.1:1e5d33e, Dec  7 2020, 17:08:21) [MSC v.1927 64 bit (AMD64)]"
  },
  "orig_nbformat": 4,
  "vscode": {
   "interpreter": {
    "hash": "63be25ffb5f61b34fb524990c472020f23a33bbb1018416951e86ba4945e160c"
   }
  }
 },
 "nbformat": 4,
 "nbformat_minor": 2
}
